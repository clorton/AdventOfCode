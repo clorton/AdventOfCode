{
 "cells": [
  {
   "cell_type": "code",
   "execution_count": 1,
   "metadata": {},
   "outputs": [
    {
     "name": "stdout",
     "output_type": "stream",
     "text": [
      "Safety factor = 121 * 119 * 132 * 121 = 229980828\n",
      "Done.\n"
     ]
    }
   ],
   "source": [
    "from pathlib import Path\n",
    "import re\n",
    "\n",
    "import numpy as np\n",
    "\n",
    "with (Path.cwd() / \"day-14.txt\").open(\"rt\") as file:\n",
    "    lines = [line.strip() for line in file.readlines()]\n",
    "\n",
    "width = 101\n",
    "height = 103\n",
    "\n",
    "# lines = [\n",
    "#     \"p=0,4 v=3,-3\",\n",
    "#     \"p=6,3 v=-1,-3\",\n",
    "#     \"p=10,3 v=-1,2\",\n",
    "#     \"p=2,0 v=2,-1\",\n",
    "#     \"p=0,0 v=1,3\",\n",
    "#     \"p=3,0 v=-2,-2\",\n",
    "#     \"p=7,6 v=-1,-3\",\n",
    "#     \"p=3,0 v=-1,-2\",\n",
    "#     \"p=9,3 v=2,3\",\n",
    "#     \"p=7,3 v=-1,2\",\n",
    "#     \"p=2,4 v=2,-3\",\n",
    "#     \"p=9,5 v=-3,-3\",\n",
    "# ]\n",
    "\n",
    "# width = 11\n",
    "# height = 7\n",
    "\n",
    "from collections import namedtuple\n",
    "Robot = namedtuple(\"Robot\", [\"x0\", \"y0\", \"vx\", \"vy\"])\n",
    "\n",
    "robots = []\n",
    "\n",
    "for line in lines:\n",
    "    m = re.match(r\"p=([0-9]+),([0-9]+) v=(-?[0-9]+),(-?[0-9]+)\", line)\n",
    "    robots.append(Robot(int(m[1]), int(m[2]), int(m[3]), int(m[4])))\n",
    "\n",
    "x0 = np.array([robot.x0 for robot in robots], dtype=np.int64)\n",
    "y0 = np.array([robot.y0 for robot in robots], dtype=np.int64)\n",
    "vx = np.array([robot.vx for robot in robots], dtype=np.int64)\n",
    "vy = np.array([robot.vy for robot in robots], dtype=np.int64)\n",
    "\n",
    "floor = np.zeros((height, width), dtype=np.int32)\n",
    "x = (x0 + 100 * vx) % width\n",
    "y = (y0 + 100 * vy) % height\n",
    "for i in range(len(robots)):\n",
    "    floor[y[i], x[i]] += 1\n",
    "\n",
    "nw = floor[:height//2, :width//2].sum()\n",
    "ne = floor[:height//2, width//2+1:].sum()\n",
    "sw = floor[height//2+1:, :width//2].sum()\n",
    "se = floor[height//2+1:, width//2+1:].sum()\n",
    "\n",
    "print(f\"Safety factor = {nw} * {ne} * {sw} * {se} = {nw*ne*sw*se}\")\n",
    "\n",
    "print(\"Done.\")\n"
   ]
  },
  {
   "cell_type": "code",
   "execution_count": 16,
   "metadata": {},
   "outputs": [
    {
     "data": {
      "application/vnd.jupyter.widget-view+json": {
       "model_id": "10f2229aec2743ea94cdd31f327f6f83",
       "version_major": 2,
       "version_minor": 0
      },
      "text/plain": [
       "interactive(children=(IntSlider(value=0, description='Range:', max=10000), Output()), _dom_classes=('widget-in…"
      ]
     },
     "execution_count": 16,
     "metadata": {},
     "output_type": "execute_result"
    }
   ],
   "source": [
    "import ipywidgets as widgets\n",
    "\n",
    "import matplotlib.pyplot as plt\n",
    "\n",
    "# Define the plot function\n",
    "def plot_function(value):\n",
    "    plt.figure(figsize=(10, 5))\n",
    "\n",
    "    x = (x0 + value * vx) % width\n",
    "    y = (y0 + value * vy) % height\n",
    "\n",
    "    plt.plot(x, y, marker='o', linestyle='None')\n",
    "    plt.title(f\"Plot with range 0 to {value}\")\n",
    "    plt.show()\n",
    "\n",
    "# Create the widget\n",
    "slider = widgets.IntSlider(min=0, max=10000, step=1, description='Range:')\n",
    "\n",
    "# Use the widget to call the plot function\n",
    "widgets.interactive(plot_function, value=slider)\n",
    "# plot_function(100)\n"
   ]
  },
  {
   "cell_type": "code",
   "execution_count": 11,
   "metadata": {},
   "outputs": [
    {
     "name": "stderr",
     "output_type": "stream",
     "text": [
      "  1%|          | 103/10000 [00:00<00:09, 1018.79it/s]"
     ]
    },
    {
     "name": "stdout",
     "output_type": "stream",
     "text": [
      "New maximum at 0: 3\n",
      "New maximum at 1: 4\n",
      "New maximum at 14: 5\n",
      "New maximum at 23: 6\n",
      "New maximum at 113: 7\n",
      "New maximum at 163: 10\n"
     ]
    },
    {
     "name": "stderr",
     "output_type": "stream",
     "text": [
      "  5%|▌         | 503/10000 [00:00<00:09, 953.96it/s] "
     ]
    },
    {
     "name": "stdout",
     "output_type": "stream",
     "text": [
      "New maximum at 334: 12\n"
     ]
    },
    {
     "name": "stderr",
     "output_type": "stream",
     "text": [
      " 21%|██▏       | 2135/10000 [00:02<00:10, 739.99it/s] "
     ]
    },
    {
     "name": "stdout",
     "output_type": "stream",
     "text": [
      "New maximum at 1981: 15\n"
     ]
    },
    {
     "name": "stderr",
     "output_type": "stream",
     "text": [
      " 73%|███████▎  | 7316/10000 [00:07<00:02, 1134.25it/s]"
     ]
    },
    {
     "name": "stdout",
     "output_type": "stream",
     "text": [
      "New maximum at 7132: 229\n"
     ]
    },
    {
     "name": "stderr",
     "output_type": "stream",
     "text": [
      "100%|██████████| 10000/10000 [00:09<00:00, 1022.67it/s]\n"
     ]
    }
   ],
   "source": [
    "from tqdm import tqdm\n",
    "\n",
    "def connected(xs, ys):\n",
    "    floor = np.zeros((height, width), dtype=np.int32)\n",
    "    floor[ys, xs] = 1\n",
    "    largest = 0\n",
    "    for x, y in zip(xs, ys):\n",
    "        test = [(x, y)]\n",
    "        size = 0\n",
    "        while test:\n",
    "            x, y = test.pop(0)\n",
    "            if floor[y, x] == 0:\n",
    "                continue\n",
    "            size += 1\n",
    "            floor[y, x] = 0\n",
    "            if x > 0 and floor[y, x-1] == 1:\n",
    "                test.append((x-1, y))\n",
    "            if x < width-1 and floor[y, x+1] == 1:\n",
    "                test.append((x+1, y))\n",
    "            if y > 0 and floor[y-1, x] == 1:\n",
    "                test.append((x, y-1))\n",
    "            if y < height-1 and floor[y+1, x] == 1:\n",
    "                test.append((x, y+1))\n",
    "\n",
    "        if size > largest:\n",
    "            largest = size\n",
    "\n",
    "    return largest\n",
    "\n",
    "maximum = 0.0\n",
    "i = 0\n",
    "for i in tqdm(range(10000)):\n",
    "    floor[:,:] = 0\n",
    "    x = (x0 + i * vx) % width\n",
    "    y = (y0 + i * vy) % height\n",
    "\n",
    "    # for j in range(len(robots)):\n",
    "    #     floor[y[j], x[j]] += 1\n",
    "    # if floor[:,40].sum() >= 50 or floor[:,70].sum() >= 50:\n",
    "    #     print(f\"Found at {i}\")\n",
    "    #     break\n",
    "\n",
    "    # mx = x.mean()\n",
    "    # my = y.mean()\n",
    "    # dist = np.sqrt(((width/2) - mx)**2 + ((height/2) - my)**2)\n",
    "    # if dist > maximum:\n",
    "    #     maximum = dist\n",
    "    #     print(f\"New maximum at {i}: {maximum}\")\n",
    "\n",
    "    size = connected(x, y)\n",
    "    if size > maximum:\n",
    "        maximum = size\n",
    "        print(f\"New maximum at {i}: {maximum}\")\n"
   ]
  },
  {
   "cell_type": "code",
   "execution_count": 10,
   "metadata": {},
   "outputs": [
    {
     "data": {
      "image/png": "[encoded data removed]",
      "text/plain": [
       "<Figure size 1000x500 with 1 Axes>"
      ]
     },
     "metadata": {},
     "output_type": "display_data"
    }
   ],
   "source": [
    "import matplotlib.pyplot as plt\n",
    "\n",
    "frame = 7132\n",
    "floor[:,:] = 0\n",
    "x = (x0 + frame * vx) % width\n",
    "y = (y0 + frame * vy) % height\n",
    "for j in range(len(robots)):\n",
    "    floor[y[j], x[j]] += 1\n",
    "\n",
    "plt.figure(figsize=(10, 5))\n",
    "plt.plot(x, -y, marker='o', linestyle='None')\n",
    "plt.title(f\"Plot with t = {frame}\")\n",
    "plt.show()\n"
   ]
  }
 ],
 "metadata": {
  "language_info": {
   "name": "python"
  }
 },
 "nbformat": 4,
 "nbformat_minor": 2
}
