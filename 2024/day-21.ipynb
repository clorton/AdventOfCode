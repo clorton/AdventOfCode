{
 "cells": [
  {
   "cell_type": "code",
   "execution_count": 1,
   "metadata": {},
   "outputs": [],
   "source": [
    "from itertools import permutations"
   ]
  },
  {
   "cell_type": "code",
   "execution_count": 2,
   "metadata": {},
   "outputs": [],
   "source": [
    "npad = {\n",
    "    \"7\": (0, 0),\n",
    "    \"8\": (1, 0),\n",
    "    \"9\": (2, 0),\n",
    "\n",
    "    \"4\": (0, 1),\n",
    "    \"5\": (1, 1),\n",
    "    \"6\": (2, 1),\n",
    "\n",
    "    \"1\": (0, 2),\n",
    "    \"2\": (1, 2),\n",
    "    \"3\": (2, 2),\n",
    "\n",
    "    \"0\": (1, 3),\n",
    "    \"A\": (2, 3),\n",
    "}\n",
    "\n",
    "delta = {\n",
    "    \"^\": (0, -1),\n",
    "    \"v\": (0, 1),\n",
    "    \"<\": (-1, 0),\n",
    "    \">\": (1, 0),\n",
    "    \"A\": (0, 0),\n",
    "}\n",
    "\n",
    "def valid(cx, cy, sequence, space):\n",
    "    for char in sequence:\n",
    "        dx, dy = delta[char]\n",
    "        cx, cy = cx + dx, cy + dy\n",
    "        if (cx, cy) == space:\n",
    "            return False\n",
    "\n",
    "    return True\n",
    "\n",
    "def numeric(code):\n",
    "    cx, cy = npad[\"A\"]\n",
    "    sequence = []\n",
    "    for char in code:\n",
    "        ex, ey = npad[char]\n",
    "\n",
    "        key = \"<\" if ex < cx else \">\"\n",
    "        moves =  key * abs(ex - cx)\n",
    "        key = \"^\" if ey < cy else \"v\"\n",
    "        moves += key * abs(ey - cy)\n",
    "\n",
    "        options = list(set(filter(lambda p: valid(cx, cy, p, (0, 3)), map(lambda p: \"\".join(p)+\"A\", permutations(moves)))))\n",
    "        sequence.append(options)\n",
    "\n",
    "        cx, cy = ex, ey\n",
    "\n",
    "    return sequence\n",
    "\n"
   ]
  },
  {
   "cell_type": "code",
   "execution_count": 3,
   "metadata": {},
   "outputs": [
    {
     "data": {
      "text/plain": [
       "[['<A'], ['^A'], ['>^^A', '^>^A', '^^>A'], ['vvvA']]"
      ]
     },
     "execution_count": 3,
     "metadata": {},
     "output_type": "execute_result"
    }
   ],
   "source": [
    "numeric(\"029A\")"
   ]
  },
  {
   "cell_type": "code",
   "execution_count": 4,
   "metadata": {},
   "outputs": [],
   "source": [
    "dpad = {\n",
    "    \"^\": (1, 0),\n",
    "    \"A\": (2, 0),\n",
    "\n",
    "    \"<\": (0, 1),\n",
    "    \"v\": (1, 1),\n",
    "    \">\": (2, 1),\n",
    "}\n",
    "\n",
    "def directional(code):\n",
    "    cx, cy = dpad[\"A\"]\n",
    "    sequence = []\n",
    "    for char in code:\n",
    "        ex, ey = dpad[char]\n",
    "\n",
    "        key = \"<\" if ex < cx else \">\"\n",
    "        moves =  key * abs(ex - cx)\n",
    "        key = \"^\" if ey < cy else \"v\"\n",
    "        moves += key * abs(ey - cy)\n",
    "\n",
    "        options = list(set(filter(lambda p: valid(cx, cy, p, (0, 0)), map(lambda p: \"\".join(p)+\"A\", permutations(moves)))))\n",
    "        sequence.append(options)\n",
    "\n",
    "        cx, cy = ex, ey\n",
    "\n",
    "    return sequence\n"
   ]
  },
  {
   "cell_type": "code",
   "execution_count": 40,
   "metadata": {},
   "outputs": [
    {
     "name": "stdout",
     "output_type": "stream",
     "text": [
      "029A: (len(num)=68) num='v<A<AA>>^AvAA^<A>Av<<A>>^AvA^Av<A^>A<Av<A>>^AAvA^Av<A<A>>^AAA<Av>A^A'\n",
      "980A: (len(num)=60) num='v<<A>>^AAAvA^Av<A<AA>>^AvAA^<A>Av<A<A>>^AAA<Av>A^Av<A^>A<A>A'\n",
      "179A: (len(num)=68) num='v<<A>>^Av<A<A>>^AAvAA^<A>Av<<A>>^AAvA^Av<A^>AA<A>Av<A<A>>^AAA<Av>A^A'\n",
      "456A: (len(num)=64) num='v<<A>>^AAv<A<A>>^AAvAA^<A>Av<A^>A<A>Av<A^>A<A>Av<A<A>>^AA<Av>A^A'\n",
      "379A: (len(num)=64) num='v<<A>>^AvA^Av<A<AA>>^AAvA^<A>AAvA^Av<A^>AA<A>Av<A<A>>^AAA<Av>A^A'\n"
     ]
    }
   ],
   "source": [
    "def select(l):\n",
    "    minimum = min(map(len, l))\n",
    "    return next(filter(lambda p: len(p) == minimum, l))\n",
    "\n",
    "def concat(m):\n",
    "    return \"\".join(list(map(select, m)))\n",
    "\n",
    "code = \"029A\"\n",
    "for code in [\"029A\", \"980A\", \"179A\", \"456A\", \"379A\"]:\n",
    "    num = concat([concat([[concat(directional(sequence)) for sequence in options] for options in directional(sequence)]) for sequence in options] for options in numeric(code))\n",
    "    print(f\"{code}: ({len(num)=}) {num=}\")\n",
    "\n"
   ]
  }
 ],
 "metadata": {
  "kernelspec": {
   "display_name": "Python 3",
   "language": "python",
   "name": "python3"
  },
  "language_info": {
   "codemirror_mode": {
    "name": "ipython",
    "version": 3
   },
   "file_extension": ".py",
   "mimetype": "text/x-python",
   "name": "python",
   "nbconvert_exporter": "python",
   "pygments_lexer": "ipython3",
   "version": "3.12.1"
  }
 },
 "nbformat": 4,
 "nbformat_minor": 2
}
