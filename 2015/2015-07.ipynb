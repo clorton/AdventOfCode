{
 "cells": [
  {
   "cell_type": "code",
   "execution_count": 1,
   "metadata": {},
   "outputs": [
    {
     "data": {
      "text/plain": [
       "['bn RSHIFT 2 -> bo',\n",
       " 'lf RSHIFT 1 -> ly',\n",
       " 'fo RSHIFT 3 -> fq',\n",
       " 'cj OR cp -> cq',\n",
       " 'fo OR fz -> ga',\n",
       " 't OR s -> u',\n",
       " 'lx -> a',\n",
       " 'NOT ax -> ay']"
      ]
     },
     "execution_count": 1,
     "metadata": {},
     "output_type": "execute_result"
    }
   ],
   "source": [
    "from pathlib import Path\n",
    "\n",
    "import numpy as np\n",
    "\n",
    "INPUT_FILE = Path.cwd() / \"day-07.txt\"\n",
    "\n",
    "with INPUT_FILE.open(\"r\") as file:\n",
    "    input = [line.strip() for line in file.readlines()]\n",
    "\n",
    "input[0:8]\n"
   ]
  },
  {
   "cell_type": "code",
   "execution_count": 2,
   "metadata": {},
   "outputs": [
    {
     "name": "stdout",
     "output_type": "stream",
     "text": [
      "['bn', 'RSHIFT', '2', 'bo']\n",
      "['NOT', 'hn', 'ho']\n",
      "['bn', 'RSHIFT', '2']\n",
      "['bo']\n"
     ]
    }
   ],
   "source": [
    "\"\"\"\n",
    "# for line in input:\n",
    "#    parts = line.replace(\" -> \", \" \").split(\" \")\n",
    "\n",
    "parsed = [line.replace(\" -> \", \" \").split(\" \") for line in input]\n",
    "print(parsed[0])\n",
    "print(parsed[-1])\n",
    "print(parsed[0][:-1])\n",
    "print(parsed[0][-1:])\n",
    "\"\"\""
   ]
  },
  {
   "cell_type": "code",
   "execution_count": 4,
   "metadata": {},
   "outputs": [
    {
     "name": "stdout",
     "output_type": "stream",
     "text": [
      "<__main__.Wire object at 0x1096fbfd0>\n"
     ]
    }
   ],
   "source": [
    "\"\"\"\n",
    "translate = {\n",
    "    \"AND\": \"&\",\n",
    "    \"OR\": \"|\",\n",
    "    \"RSHIFT\": \">>\",\n",
    "    \"LSHIFT\": \"<<\"\n",
    "}\n",
    "\n",
    "class Wire:\n",
    "    def __init__(self, function):\n",
    "        self._function = function\n",
    "        exec(f\"self._value = lambda : {function}\")\n",
    "        return\n",
    "\n",
    "    @property\n",
    "    def value(self):\n",
    "        return np.int16(self._value())\n",
    "\n",
    "def get_operand(token: str) -> str:\n",
    "\n",
    "    operand = token\n",
    "    if operand.isalpha():\n",
    "        operand = operand.upper()\n",
    "        operand = f\"{operand}.value\"\n",
    "\n",
    "    return operand\n",
    "\n",
    "for parsing in parsed:\n",
    "    name = parsing[-1].upper()\n",
    "    operation = parsing[:-1]\n",
    "    if len(operation) == 1:\n",
    "        operation = f\"np.int16({get_operand(operation[0])})\"\n",
    "    elif len(operation) == 2:\n",
    "        operation = f\"~np.int16({get_operand(operation[1])})\"\n",
    "    else:\n",
    "        assert len(operation) == 3, f\"operation, '{operation}', is malformed\"\n",
    "        operand1 = get_operand(operation[0])\n",
    "        opcode = translate[operation[1]]\n",
    "        operand2 = get_operand(operation[2])\n",
    "        operation = f\"{operand1} {opcode} {operand2}\"\n",
    "    exec(f\"{name} = Wire(operation)\")\n",
    "\n",
    "print(A)\n",
    "print(A.value)\n",
    "\"\"\"\n"
   ]
  },
  {
   "cell_type": "code",
   "execution_count": 4,
   "metadata": {},
   "outputs": [
    {
     "name": "stdout",
     "output_type": "stream",
     "text": [
      "Part 1: a = 46065\n"
     ]
    }
   ],
   "source": [
    "from typing import List\n",
    "\n",
    "state = {}\n",
    "wires = []\n",
    "\n",
    "for line in input:\n",
    "    tokens = line.replace(\" -> \", \" \").split(\" \")\n",
    "    name = tokens[-1]\n",
    "    compute = tokens[:-1]\n",
    "    # print(f\"{name}: {compute}\")\n",
    "    wires.append((name, compute))\n",
    "\n",
    "OPS = {\n",
    "    \"AND\":    lambda a, b: a & b,\n",
    "    \"OR\":     lambda a, b: a | b,\n",
    "    \"RSHIFT\": lambda a, b: a >> b,\n",
    "    \"LSHIFT\": lambda a, b: a << b\n",
    "}\n",
    "\n",
    "while len(wires) > 0:\n",
    "    wire = wires.pop(0)\n",
    "    name:str = wire[0]\n",
    "    compute:List = wire[1]\n",
    "    if len(compute) == 1:\n",
    "        operand:str = compute[0]\n",
    "        if not operand.isalpha():\n",
    "            state[name] = np.uint16(operand)\n",
    "        elif operand in state:\n",
    "            state[name] = state[operand]\n",
    "        else:\n",
    "            wires.append((name, compute))\n",
    "    elif len(compute) == 2:\n",
    "        operand:str = compute[1]\n",
    "        if not operand.isalpha():\n",
    "            state[name] = ~np.uint16(operand)\n",
    "        elif operand in state:\n",
    "            state[name] = ~state[operand]\n",
    "        else:\n",
    "            wires.append((name, compute))\n",
    "    elif len(compute) == 3:\n",
    "        operand1 = compute[0]\n",
    "        operand2 = compute[2]\n",
    "        if not operand1.isalpha():\n",
    "            operand1 = np.uint16(operand1)\n",
    "        elif operand1 in state:\n",
    "            operand1 = state[operand1]\n",
    "        else:\n",
    "            wires.append((name, compute))\n",
    "            continue\n",
    "        if not operand2.isalpha():\n",
    "            operand2 = np.uint16(operand2)\n",
    "        elif operand2 in state:\n",
    "            operand2 = state[operand2]\n",
    "        else:\n",
    "            wires.append((name, compute))\n",
    "            continue\n",
    "        opcode = compute[1]\n",
    "        state[name] = OPS[opcode](operand1, operand2)\n",
    "    else:\n",
    "        raise RuntimeError\n",
    "\n",
    "print(f\"Part 1: a = {state['a']}\")\n"
   ]
  },
  {
   "cell_type": "code",
   "execution_count": 6,
   "metadata": {},
   "outputs": [
    {
     "name": "stdout",
     "output_type": "stream",
     "text": [
      "Part 1: a = 14134\n"
     ]
    }
   ],
   "source": [
    "from typing import List\n",
    "\n",
    "state = {}\n",
    "wires = []\n",
    "\n",
    "for line in input:\n",
    "    tokens = line.replace(\" -> \", \" \").split(\" \")\n",
    "    name = tokens[-1]\n",
    "    compute = tokens[:-1]\n",
    "    # print(f\"{name}: {compute}\")\n",
    "    wires.append((name, compute))\n",
    "\n",
    "OPS = {\n",
    "    \"AND\":    lambda a, b: a & b,\n",
    "    \"OR\":     lambda a, b: a | b,\n",
    "    \"RSHIFT\": lambda a, b: a >> b,\n",
    "    \"LSHIFT\": lambda a, b: a << b\n",
    "}\n",
    "\n",
    "while len(wires) > 0:\n",
    "    wire = wires.pop(0)\n",
    "    name:str = wire[0]\n",
    "    compute:List = wire[1]\n",
    "    if len(compute) == 1:\n",
    "        operand:str = compute[0]\n",
    "        if not operand.isalpha():\n",
    "            if name != \"b\":\n",
    "                state[name] = np.uint16(operand)\n",
    "            else:\n",
    "                state[name] = np.uint16(46065)\n",
    "        elif operand in state:\n",
    "            state[name] = state[operand]\n",
    "        else:\n",
    "            wires.append((name, compute))\n",
    "    elif len(compute) == 2:\n",
    "        operand:str = compute[1]\n",
    "        if not operand.isalpha():\n",
    "            state[name] = ~np.uint16(operand)\n",
    "        elif operand in state:\n",
    "            state[name] = ~state[operand]\n",
    "        else:\n",
    "            wires.append((name, compute))\n",
    "    elif len(compute) == 3:\n",
    "        operand1 = compute[0]\n",
    "        operand2 = compute[2]\n",
    "        if not operand1.isalpha():\n",
    "            operand1 = np.uint16(operand1)\n",
    "        elif operand1 in state:\n",
    "            operand1 = state[operand1]\n",
    "        else:\n",
    "            wires.append((name, compute))\n",
    "            continue\n",
    "        if not operand2.isalpha():\n",
    "            operand2 = np.uint16(operand2)\n",
    "        elif operand2 in state:\n",
    "            operand2 = state[operand2]\n",
    "        else:\n",
    "            wires.append((name, compute))\n",
    "            continue\n",
    "        opcode = compute[1]\n",
    "        state[name] = OPS[opcode](operand1, operand2)\n",
    "    else:\n",
    "        raise RuntimeError\n",
    "\n",
    "print(f\"Part 1: a = {state['a']}\")\n"
   ]
  }
 ],
 "metadata": {
  "kernelspec": {
   "display_name": "Python 3.8.9 ('.venv': venv)",
   "language": "python",
   "name": "python3"
  },
  "language_info": {
   "codemirror_mode": {
    "name": "ipython",
    "version": 3
   },
   "file_extension": ".py",
   "mimetype": "text/x-python",
   "name": "python",
   "nbconvert_exporter": "python",
   "pygments_lexer": "ipython3",
   "version": "3.8.9"
  },
  "orig_nbformat": 4,
  "vscode": {
   "interpreter": {
    "hash": "4ef0dafbb4c785a213c30d260c9cfa9153acec0d3c352807f65148e1731ab18b"
   }
  }
 },
 "nbformat": 4,
 "nbformat_minor": 2
}
