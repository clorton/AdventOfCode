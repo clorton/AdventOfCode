{
 "cells": [
  {
   "cell_type": "code",
   "execution_count": 1,
   "metadata": {},
   "outputs": [
    {
     "data": {
      "text/plain": [
       "['Faerun to Norrath = 129',\n",
       " 'Faerun to Tristram = 58',\n",
       " 'Faerun to AlphaCentauri = 13',\n",
       " 'Faerun to Arbre = 24',\n",
       " 'Faerun to Snowdin = 60',\n",
       " 'Faerun to Tambi = 71',\n",
       " 'Faerun to Straylight = 67',\n",
       " 'Norrath to Tristram = 142']"
      ]
     },
     "execution_count": 1,
     "metadata": {},
     "output_type": "execute_result"
    }
   ],
   "source": [
    "from pathlib import Path\n",
    "\n",
    "WORKDIR = Path.cwd().absolute()\n",
    "\n",
    "with (WORKDIR / \"2015-09.txt\").open(\"r\") as file:\n",
    "    inputs = [line.strip() for line in file.readlines()]\n",
    "\n",
    "inputs[0:8]\n"
   ]
  },
  {
   "cell_type": "code",
   "execution_count": 2,
   "metadata": {},
   "outputs": [],
   "source": [
    "from collections import defaultdict\n",
    "\n",
    "distances = defaultdict(dict)\n",
    "\n",
    "for line in inputs:\n",
    "    tokens = line.split(\" \")\n",
    "    citya = tokens[0]\n",
    "    cityb = tokens[2]\n",
    "    distance = int(tokens[-1])\n",
    "    distances[citya][cityb] = distance\n",
    "    distances[cityb][citya] = distance\n"
   ]
  },
  {
   "cell_type": "code",
   "execution_count": 3,
   "metadata": {},
   "outputs": [
    {
     "name": "stdout",
     "output_type": "stream",
     "text": [
      "Part 1: Shortest route is length 207 for Route(distance=207, cities='Tristram->Tambi->Snowdin->AlphaCentauri->Faerun->Arbre->Straylight->Norrath', end='Norrath', count=8)\n"
     ]
    },
    {
     "data": {
      "text/plain": [
       "{Route(distance=207, cities='Tristram->Tambi->Snowdin->AlphaCentauri->Faerun->Arbre->Straylight->Norrath', end='Norrath', count=8),\n",
       " Route(distance=210, cities='Arbre->Faerun->AlphaCentauri->Snowdin->Tambi->Tristram->Straylight', end='Straylight', count=7),\n",
       " Route(distance=213, cities='Norrath->AlphaCentauri->Snowdin->Tambi->Tristram->Faerun->Arbre->Straylight', end='Straylight', count=8),\n",
       " Route(distance=225, cities='Snowdin->AlphaCentauri->Faerun->Arbre->Straylight->Norrath->Tambi', end='Tambi', count=7),\n",
       " Route(distance=226, cities='Faerun->AlphaCentauri->Snowdin->Tambi->Tristram->Straylight->Arbre', end='Arbre', count=7),\n",
       " Route(distance=252, cities='AlphaCentauri->Snowdin->Tambi->Tristram->Faerun->Arbre->Straylight->Norrath', end='Norrath', count=8),\n",
       " Route(distance=295, cities='Straylight->Arbre->Faerun->AlphaCentauri->Snowdin->Tambi->Tristram->Norrath', end='Norrath', count=8),\n",
       " Route(distance=300, cities='Tambi->Snowdin->AlphaCentauri->Faerun->Arbre->Straylight->Norrath->Tristram', end='Tristram', count=8)}"
      ]
     },
     "execution_count": 3,
     "metadata": {},
     "output_type": "execute_result"
    }
   ],
   "source": [
    "from typing import List, Set, Tuple\n",
    "from collections import namedtuple\n",
    "\n",
    "routes = set()\n",
    "\n",
    "num_cities = len(distances.keys())\n",
    "\n",
    "def closest(destinations: List, visited: Set=set()) -> Tuple[str, int]:\n",
    "\n",
    "    flip = {distance:destination for destination, distance in destinations.items() if destination not in visited}\n",
    "    distance = min(flip.keys())\n",
    "    destination = flip[distance]\n",
    "\n",
    "    return destination, distance\n",
    "\n",
    "Route = namedtuple(\"Route\", [\"distance\", \"cities\", \"end\", \"count\"])\n",
    "\n",
    "# seed routes\n",
    "for start, destinations in distances.items():\n",
    "    destination, distance = closest(destinations)\n",
    "    routes.add(Route(distance, f\"{start}->{destination}\", destination, 2))\n",
    "\n",
    "while True:\n",
    "    shortest = min((element.distance for element in routes))\n",
    "    route = list(filter(lambda e: e.distance == shortest, routes))[0]\n",
    "    if route.count == num_cities:\n",
    "        print(f\"Part 1: Shortest route is length {route.distance} for {route}\")\n",
    "        break\n",
    "    next_city, distance = closest(distances[route.end], set(route.cities.split(\"->\")))\n",
    "    routes.remove(route)\n",
    "    length = shortest + distance\n",
    "    cities = f\"{route.cities}->{next_city}\"\n",
    "    count = route.count + 1\n",
    "    new_route = Route(length, cities, next_city, count)\n",
    "    routes.add(Route(length, cities, next_city, count))\n",
    "\n",
    "routes\n"
   ]
  },
  {
   "cell_type": "code",
   "execution_count": 5,
   "metadata": {},
   "outputs": [
    {
     "name": "stdout",
     "output_type": "stream",
     "text": [
      "Part 2: Longest path is length 804 - ('Tambi', 'Faerun', 'Norrath', 'Tristram', 'AlphaCentauri', 'Arbre', 'Snowdin', 'Straylight')\n"
     ]
    }
   ],
   "source": [
    "from itertools import permutations\n",
    "\n",
    "def measure(path:List) -> int:\n",
    "\n",
    "    length = 0\n",
    "    for i in range(len(path)-1):\n",
    "        length += distances[path[i]][path[i+1]]\n",
    "\n",
    "    return length\n",
    "\n",
    "longest = 0\n",
    "path = []\n",
    "for permutation in permutations(distances.keys()):\n",
    "    length = measure(permutation)\n",
    "    if length >longest:\n",
    "        longest = length\n",
    "        path = permutation\n",
    "\n",
    "print(f\"Part 2: Longest path is length {longest} - {path}\")\n"
   ]
  }
 ],
 "metadata": {
  "kernelspec": {
   "display_name": "Python 3",
   "language": "python",
   "name": "python3"
  },
  "language_info": {
   "codemirror_mode": {
    "name": "ipython",
    "version": 3
   },
   "file_extension": ".py",
   "mimetype": "text/x-python",
   "name": "python",
   "nbconvert_exporter": "python",
   "pygments_lexer": "ipython3",
   "version": "3.10.4"
  },
  "orig_nbformat": 4,
  "vscode": {
   "interpreter": {
    "hash": "3ad933181bd8a04b432d3370b9dc3b0662ad032c4dfaa4e4f1596c548f763858"
   }
  }
 },
 "nbformat": 4,
 "nbformat_minor": 2
}
