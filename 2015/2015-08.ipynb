{
 "cells": [
  {
   "cell_type": "code",
   "execution_count": 7,
   "metadata": {},
   "outputs": [
    {
     "data": {
      "text/plain": [
       "['\"azlgxdbljwygyttzkfwuxv\"',\n",
       " '\"v\\\\xfb\\\\\"lgs\\\\\"kvjfywmut\\\\x9cr\"',\n",
       " '\"merxdhj\"',\n",
       " '\"dwz\"',\n",
       " '\"d\\\\\\\\gkbqo\\\\\\\\fwukyxab\\\\\"u\"',\n",
       " '\"k\\\\xd4cfixejvkicryipucwurq\\\\x7eq\"',\n",
       " '\"nvtidemacj\\\\\"hppfopvpr\"',\n",
       " '\"kbngyfvvsdismznhar\\\\\\\\p\\\\\"\\\\\"gpryt\\\\\"jaeh\"']"
      ]
     },
     "execution_count": 7,
     "metadata": {},
     "output_type": "execute_result"
    }
   ],
   "source": [
    "from pathlib import Path\n",
    "from pprint import pprint\n",
    "\n",
    "import numpy as np\n",
    "\n",
    "INPUT_FILE = Path.cwd() / \"day-08.txt\"\n",
    "\n",
    "with INPUT_FILE.open(\"r\") as file:\n",
    "    inputs = [line.strip() for line in file.readlines()]\n",
    "\n",
    "inputs[0:8]\n"
   ]
  },
  {
   "cell_type": "code",
   "execution_count": 11,
   "metadata": {},
   "outputs": [
    {
     "name": "stdout",
     "output_type": "stream",
     "text": [
      "azlgxdbljwygyttzkfwuxv\n",
      "hjg\\w\"xuoqbsdikbjxpip\"w\"jnhzec\n",
      "\\zrs\\syur\n",
      "Raw size     = 6202\n",
      "Literal size = 4860\n",
      "1342\n"
     ]
    }
   ],
   "source": [
    "decoded = []\n",
    "# for line in ['\"\"', '\"abc\"', '\"aaa\\\\\"aaa\"', '\"\\\\x27\"']:\n",
    "for line in inputs:\n",
    "    inner = line[1:-1]\n",
    "    evaled = eval(f\"'{inner}'\")\n",
    "    decoded.append(f\"{evaled}\")\n",
    "\n",
    "print(decoded[0])\n",
    "print(decoded[-3])\n",
    "print(decoded[-1])\n",
    "\n",
    "print(f\"Raw size     = {sum(map(len, inputs))}\")\n",
    "print(f\"Literal size = {sum(map(len, decoded))}\")\n",
    "print(sum(map(len, inputs))-sum(map(len, decoded)))\n"
   ]
  },
  {
   "cell_type": "code",
   "execution_count": 10,
   "metadata": {},
   "outputs": [
    {
     "name": "stdout",
     "output_type": "stream",
     "text": [
      "Raw size     = 6202\n",
      "Literal size = 8276\n",
      "2074\n"
     ]
    }
   ],
   "source": [
    "decoded = []\n",
    "#for line in ['\"\"', '\"abc\"', '\"aaa\\\\\"aaa\"', '\"\\\\x27\"']:\n",
    "for line in inputs:\n",
    "    line = line.replace(\"\\\\\", \"\\\\\\\\\").replace('\"', '\\\\\"')\n",
    "    decoded.append(f'\"{line}\"')\n",
    "\n",
    "if len(decoded) <= 16:\n",
    "    for line in decoded:\n",
    "        print(line)\n",
    "\n",
    "print(f\"Raw size     = {sum(map(len, inputs))}\")\n",
    "print(f\"Literal size = {sum(map(len, decoded))}\")\n",
    "print(sum(map(len, decoded))-sum(map(len, inputs)))\n"
   ]
  }
 ],
 "metadata": {
  "kernelspec": {
   "display_name": "Python 3.8.9 ('.venv': venv)",
   "language": "python",
   "name": "python3"
  },
  "language_info": {
   "codemirror_mode": {
    "name": "ipython",
    "version": 3
   },
   "file_extension": ".py",
   "mimetype": "text/x-python",
   "name": "python",
   "nbconvert_exporter": "python",
   "pygments_lexer": "ipython3",
   "version": "3.8.9"
  },
  "orig_nbformat": 4,
  "vscode": {
   "interpreter": {
    "hash": "4ef0dafbb4c785a213c30d260c9cfa9153acec0d3c352807f65148e1731ab18b"
   }
  }
 },
 "nbformat": 4,
 "nbformat_minor": 2
}
