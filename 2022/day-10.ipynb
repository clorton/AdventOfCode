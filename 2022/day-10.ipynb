{
 "cells": [
  {
   "cell_type": "code",
   "execution_count": 10,
   "metadata": {},
   "outputs": [
    {
     "data": {
      "text/plain": [
       "['noop', 'addx 26', 'addx -21', 'addx 2', 'addx 3', 'noop', 'noop', 'addx 23']"
      ]
     },
     "execution_count": 10,
     "metadata": {},
     "output_type": "execute_result"
    }
   ],
   "source": [
    "from pathlib import Path\n",
    "\n",
    "import numpy as np\n",
    "\n",
    "INPUT_FILE = Path.cwd() / \"day-10.txt\"\n",
    "\n",
    "with INPUT_FILE.open(\"r\") as file:\n",
    "    input = [line.strip() for line in file.readlines()]\n",
    "\n",
    "input[0:8]\n"
   ]
  },
  {
   "cell_type": "code",
   "execution_count": 11,
   "metadata": {},
   "outputs": [
    {
     "name": "stdout",
     "output_type": "stream",
     "text": [
      "signal_strength[20] = 320\n",
      "signal_strength[60] = 1020\n",
      "signal_strength[100] = 2400\n",
      "signal_strength[140] = 2380\n",
      "signal_strength[180] = 3780\n",
      "signal_strength[220] = 1320\n",
      "Part 1: total signal strength is 11220\n"
     ]
    }
   ],
   "source": [
    "cycle = 1\n",
    "x = 1\n",
    "signal_strength = [0]\n",
    "\n",
    "for instruction in input:\n",
    "    if instruction.startswith(\"noop\"):\n",
    "        signal_strength.append(x*cycle)\n",
    "        cycle += 1\n",
    "    else:\n",
    "        delta = int(instruction.split(\" \")[1])\n",
    "        for clock in range(2):\n",
    "            signal_strength.append(x*cycle)\n",
    "            cycle += 1\n",
    "        x += delta\n",
    "\n",
    "sum = 0\n",
    "for i in range(20, 221, 40):\n",
    "    print(f\"signal_strength[{i}] = {signal_strength[i]}\")\n",
    "    sum += signal_strength[i]\n",
    "\n",
    "print(f\"Part 1: total signal strength is {sum}\")\n"
   ]
  },
  {
   "cell_type": "code",
   "execution_count": 13,
   "metadata": {},
   "outputs": [
    {
     "name": "stdout",
     "output_type": "stream",
     "text": [
      "\n",
      "###  #### ###   ##    ## #### #    #  # \n",
      "#  #    # #  # #  #    # #    #    # #  \n",
      "###    #  #  # #  #    # ###  #    ##   \n",
      "#  #  #   ###  ####    # #    #    # #  \n",
      "#  # #    #    #  # #  # #    #    # #  \n",
      "###  #### #    #  #  ##  #### #### #  # "
     ]
    }
   ],
   "source": [
    "screen = np.zeros(6*40, dtype=np.uint8)\n",
    "\n",
    "cycle = 1\n",
    "x = 1\n",
    "\n",
    "\n",
    "for instruction in input:\n",
    "    if instruction.startswith(\"noop\"):\n",
    "        pixel_index = cycle - 1\n",
    "        horizontal = pixel_index % 40\n",
    "        vertical   = pixel_index // 40\n",
    "        if abs(horizontal - x) <= 1:\n",
    "            screen[pixel_index] = 1\n",
    "        cycle += 1\n",
    "    else:\n",
    "        delta = int(instruction.split(\" \")[1])\n",
    "        for clock in range(2):\n",
    "            pixel_index = cycle - 1\n",
    "            horizontal = pixel_index % 40\n",
    "            vertical   = pixel_index // 40\n",
    "            if abs(horizontal - x) <= 1:\n",
    "                screen[pixel_index] = 1\n",
    "            cycle += 1\n",
    "        x += delta\n",
    "\n",
    "for pixel in range(240):\n",
    "    print() if (pixel % 40) == 0 else None\n",
    "    print(\"#\" if screen[pixel] == 1 else \" \", end=\"\")\n",
    "\n",
    "# BZPAJELK\n"
   ]
  }
 ],
 "metadata": {
  "kernelspec": {
   "display_name": "Python 3.8.9 ('.venv': venv)",
   "language": "python",
   "name": "python3"
  },
  "language_info": {
   "codemirror_mode": {
    "name": "ipython",
    "version": 3
   },
   "file_extension": ".py",
   "mimetype": "text/x-python",
   "name": "python",
   "nbconvert_exporter": "python",
   "pygments_lexer": "ipython3",
   "version": "3.8.9"
  },
  "orig_nbformat": 4,
  "vscode": {
   "interpreter": {
    "hash": "4ef0dafbb4c785a213c30d260c9cfa9153acec0d3c352807f65148e1731ab18b"
   }
  }
 },
 "nbformat": 4,
 "nbformat_minor": 2
}
