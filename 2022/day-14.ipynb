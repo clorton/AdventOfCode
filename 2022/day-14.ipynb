{
 "cells": [
  {
   "cell_type": "code",
   "execution_count": 1,
   "metadata": {},
   "outputs": [],
   "source": [
    "import numpy as np\n"
   ]
  },
  {
   "cell_type": "code",
   "execution_count": 2,
   "metadata": {},
   "outputs": [
    {
     "data": {
      "text/plain": [
       "['521,154 -> 526,154',\n",
       " '474,44 -> 474,38 -> 474,44 -> 476,44 -> 476,39 -> 476,44 -> 478,44 -> 478,34 -> 478,44 -> 480,44 -> 480,40 -> 480,44 -> 482,44 -> 482,36 -> 482,44 -> 484,44 -> 484,34 -> 484,44 -> 486,44 -> 486,38 -> 486,44 -> 488,44 -> 488,36 -> 488,44 -> 490,44 -> 490,36 -> 490,44',\n",
       " '499,13 -> 499,17 -> 493,17 -> 493,24 -> 507,24 -> 507,17 -> 501,17 -> 501,13',\n",
       " '497,80 -> 497,83 -> 489,83 -> 489,87 -> 505,87 -> 505,83 -> 501,83 -> 501,80',\n",
       " '471,77 -> 475,77',\n",
       " '502,122 -> 502,115 -> 502,122 -> 504,122 -> 504,114 -> 504,122 -> 506,122 -> 506,115 -> 506,122 -> 508,122 -> 508,119 -> 508,122 -> 510,122 -> 510,113 -> 510,122 -> 512,122 -> 512,116 -> 512,122 -> 514,122 -> 514,115 -> 514,122 -> 516,122 -> 516,113 -> 516,122 -> 518,122 -> 518,117 -> 518,122',\n",
       " '545,157 -> 545,160 -> 544,160 -> 544,167 -> 556,167 -> 556,160 -> 549,160 -> 549,157',\n",
       " '477,73 -> 481,73']"
      ]
     },
     "execution_count": 2,
     "metadata": {},
     "output_type": "execute_result"
    }
   ],
   "source": [
    "from pathlib import Path\n",
    "\n",
    "WORKDIR = Path.cwd().absolute()\n",
    "INPUTFILE = WORKDIR / \"day-14.txt\"\n",
    "\n",
    "with INPUTFILE.open(\"r\") as file:\n",
    "    inputs = [line.strip() for line in file.readlines()]\n",
    "\n",
    "_inputs = [\n",
    "    \"498,4 -> 498,6 -> 496,6\",\n",
    "    \"503,4 -> 502,4 -> 502,9 -> 494,9\"\n",
    "]\n",
    "\n",
    "inputs[0:8]"
   ]
  },
  {
   "cell_type": "code",
   "execution_count": 3,
   "metadata": {},
   "outputs": [
    {
     "name": "stdout",
     "output_type": "stream",
     "text": [
      "Minimum x = 464, y = 13\n",
      "Maximum x = 556, y = 167\n",
      "x_offset=463, width=95, height=168\n"
     ]
    }
   ],
   "source": [
    "xs = set()\n",
    "ys = set()\n",
    "for line in inputs:\n",
    "    line = line.split(\" -> \")\n",
    "    for pair in line:\n",
    "        x, y = list(map(int, pair.split(\",\")))\n",
    "        xs.add(x)\n",
    "        ys.add(y)\n",
    "\n",
    "print(f\"Minimum x = {min(xs)}, y = {min(ys)}\")\n",
    "print(f\"Maximum x = {max(xs)}, y = {max(ys)}\")\n",
    "\n",
    "x_offset = min(xs) - 1\n",
    "width = max(xs) - min(xs) + 1 + 2   # +1 because inclusive, +2 for margin/buffer\n",
    "height = max(ys) + 1\n",
    "print(f\"{x_offset=}, {width=}, {height=}\")\n"
   ]
  },
  {
   "cell_type": "code",
   "execution_count": 8,
   "metadata": {},
   "outputs": [],
   "source": [
    "AIR = ord(\" \")\n",
    "cavern = np.full((height, width), AIR, dtype=np.uint8)\n",
    "ROCK = ord(\"#\")\n",
    "for line in inputs:\n",
    "    line = line.split(\" -> \")\n",
    "    for i, pair in enumerate(line):\n",
    "        if i == 0:\n",
    "            x0, y0 = list(map(int, pair.split(\",\")))\n",
    "            x0 -= x_offset\n",
    "        else:\n",
    "            x1, y1 = list(map(int, pair.split(\",\")))\n",
    "            x1 -= x_offset\n",
    "            if x1 == x0:\n",
    "                for y in range(min(y0, y1), max(y0,y1)+1):\n",
    "                    cavern[y, x0] = ROCK\n",
    "            elif y1 == y0:\n",
    "                for x in range(min(x0, x1), max(x0, x1)+1):\n",
    "                    cavern[y0, x] = ROCK\n",
    "            else:\n",
    "                raise RuntimeError(f\"({x0},{y0}) -> ({x1},{y1}) is neither horizontal nor vertical\")\n",
    "            x0, y0 = x1, y1\n",
    "\n",
    "def print_cavern(filepath: Path) -> None:\n",
    "    with filepath.open(\"w\") as file:\n",
    "        file.writelines((\"\".join(map(chr, row))+\"\\n\" for row in cavern))\n",
    "\n",
    "print_cavern(WORKDIR / \"day-14-cavern1a.txt\")\n"
   ]
  },
  {
   "cell_type": "code",
   "execution_count": 9,
   "metadata": {},
   "outputs": [
    {
     "name": "stdout",
     "output_type": "stream",
     "text": [
      "Part 1: 994 grains of sand came to rest\n"
     ]
    }
   ],
   "source": [
    "from collections import namedtuple\n",
    "\n",
    "Cell = namedtuple(\"Cell\", [\"x\", \"y\"])\n",
    "SAND = ord(\"·\")\n",
    "\n",
    "grains = 0\n",
    "path = [Cell(500-x_offset, 0)]\n",
    "while True:\n",
    "    position = path.pop()\n",
    "    grains += 1\n",
    "    while position.y < (cavern.shape[0] - 1):\n",
    "        if cavern[position.y+1, position.x] == AIR:\n",
    "            path.append(position)\n",
    "            position = Cell(position.x, position.y+1)\n",
    "        elif cavern[position.y+1, position.x-1] == AIR:\n",
    "            path.append(position)\n",
    "            position = Cell(position.x-1, position.y+1)\n",
    "        elif cavern[position.y+1, position.x+1] == AIR:\n",
    "            path.append(position)\n",
    "            position = Cell(position.x+1, position.y+1)\n",
    "        else:\n",
    "            # final resting spot\n",
    "            cavern[position.y, position.x] = SAND\n",
    "            break\n",
    "    if position.y == (cavern.shape[0] - 1):\n",
    "        break\n",
    "\n",
    "print(f\"Part 1: {grains-1} grains of sand came to rest\")\n",
    "\n",
    "print_cavern(WORKDIR / \"day-14-cavern1b.txt\")\n"
   ]
  },
  {
   "cell_type": "code",
   "execution_count": 10,
   "metadata": {},
   "outputs": [
    {
     "name": "stdout",
     "output_type": "stream",
     "text": [
      "x_offset=0, width=1024, height=172\n"
     ]
    }
   ],
   "source": [
    "x_offset = 0\n",
    "width = 1024\n",
    "height += 2\n",
    "print(f\"{x_offset=}, {width=}, {height=}\")\n",
    "\n",
    "cavern = np.full((height, width), AIR, dtype=np.uint8)\n",
    "\n",
    "for line in inputs:\n",
    "    line = line.split(\" -> \")\n",
    "    for i, pair in enumerate(line):\n",
    "        if i == 0:\n",
    "            x0, y0 = list(map(int, pair.split(\",\")))\n",
    "            x0 -= x_offset\n",
    "        else:\n",
    "            x1, y1 = list(map(int, pair.split(\",\")))\n",
    "            x1 -= x_offset\n",
    "            if x1 == x0:\n",
    "                for y in range(min(y0, y1), max(y0,y1)+1):\n",
    "                    cavern[y, x0] = ROCK\n",
    "            elif y1 == y0:\n",
    "                for x in range(min(x0, x1), max(x0, x1)+1):\n",
    "                    cavern[y0, x] = ROCK\n",
    "            else:\n",
    "                raise RuntimeError(f\"({x0},{y0}) -> ({x1},{y1}) is neither horizontal nor vertical\")\n",
    "            x0, y0 = x1, y1\n",
    "\n",
    "cavern[max(ys)+2,:] = ROCK\n",
    "\n",
    "print_cavern(WORKDIR / \"day-14-cavern2a.txt\")\n"
   ]
  },
  {
   "cell_type": "code",
   "execution_count": 11,
   "metadata": {},
   "outputs": [
    {
     "name": "stdout",
     "output_type": "stream",
     "text": [
      "Part 2: 26283 grains of sand came in\n"
     ]
    }
   ],
   "source": [
    "grains = 0\n",
    "source = Cell(500, 0)\n",
    "path = [source]\n",
    "while True:\n",
    "    position = path.pop()\n",
    "    grains += 1\n",
    "    # if grains % 100 == 0:\n",
    "    #     print(f\"{grains}...\")\n",
    "    if grains >= 60_000:\n",
    "        break\n",
    "    while position.y < (cavern.shape[0] - 1):\n",
    "        if cavern[position.y+1, position.x] == AIR:\n",
    "            path.append(position)\n",
    "            position = Cell(position.x, position.y+1)\n",
    "        elif cavern[position.y+1, position.x-1] == AIR:\n",
    "            path.append(position)\n",
    "            position = Cell(position.x-1, position.y+1)\n",
    "        elif cavern[position.y+1, position.x+1] == AIR:\n",
    "            path.append(position)\n",
    "            position = Cell(position.x+1, position.y+1)\n",
    "        else:\n",
    "            # final resting spot\n",
    "            cavern[position.y, position.x] = SAND\n",
    "            break\n",
    "    if position == source:\n",
    "        break\n",
    "\n",
    "print(f\"Part 2: {grains} grains of sand came in\")\n",
    "\n",
    "print_cavern(WORKDIR / \"day-14-cavern2b.txt\")\n"
   ]
  }
 ],
 "metadata": {
  "kernelspec": {
   "display_name": "Python 3",
   "language": "python",
   "name": "python3"
  },
  "language_info": {
   "codemirror_mode": {
    "name": "ipython",
    "version": 3
   },
   "file_extension": ".py",
   "mimetype": "text/x-python",
   "name": "python",
   "nbconvert_exporter": "python",
   "pygments_lexer": "ipython3",
   "version": "3.10.4"
  },
  "orig_nbformat": 4,
  "vscode": {
   "interpreter": {
    "hash": "3ad933181bd8a04b432d3370b9dc3b0662ad032c4dfaa4e4f1596c548f763858"
   }
  }
 },
 "nbformat": 4,
 "nbformat_minor": 2
}
