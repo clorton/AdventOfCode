{
 "cells": [
  {
   "cell_type": "code",
   "execution_count": 15,
   "metadata": {},
   "outputs": [
    {
     "data": {
      "text/plain": [
       "['15,15,12',\n",
       " '11,3,10',\n",
       " '5,2,11',\n",
       " '17,12,13',\n",
       " '6,4,15',\n",
       " '16,13,5',\n",
       " '9,16,13',\n",
       " '6,5,4']"
      ]
     },
     "execution_count": 15,
     "metadata": {},
     "output_type": "execute_result"
    }
   ],
   "source": [
    "from collections import namedtuple\n",
    "from pathlib import Path\n",
    "\n",
    "import numpy as np\n",
    "\n",
    "WORKDIR = Path.cwd().absolute()\n",
    "INPUTFILE = WORKDIR / \"2022-18.txt\"\n",
    "\n",
    "with INPUTFILE.open(\"r\") as file:\n",
    "    inputs = [line.strip() for line in file.readlines()]\n",
    "\n",
    "test = [\n",
    "    \"2,2,2\",\n",
    "    \"1,2,2\",\n",
    "    \"3,2,2\",\n",
    "    \"2,1,2\",\n",
    "    \"2,3,2\",\n",
    "    \"2,2,1\",\n",
    "    \"2,2,3\",\n",
    "    \"2,2,4\",\n",
    "    \"2,2,6\",\n",
    "    \"1,2,5\",\n",
    "    \"3,2,5\",\n",
    "    \"2,1,5\",\n",
    "    \"2,3,5\",\n",
    "]\n",
    "\n",
    "# inputs = test\n",
    "\n",
    "inputs[0:8]\n"
   ]
  },
  {
   "cell_type": "code",
   "execution_count": 16,
   "metadata": {},
   "outputs": [
    {
     "name": "stdout",
     "output_type": "stream",
     "text": [
      "[Location(x=15, y=15, z=12), Location(x=11, y=3, z=10), Location(x=5, y=2, z=11), Location(x=17, y=12, z=13), Location(x=6, y=4, z=15), Location(x=16, y=13, z=5), Location(x=9, y=16, z=13), Location(x=6, y=5, z=4)]\n"
     ]
    }
   ],
   "source": [
    "Location = namedtuple(\"Location\", [\"x\", \"y\", \"z\"])\n",
    "\n",
    "locations = []\n",
    "for line in inputs:\n",
    "    x, y, z = list(map(int, line.split(\",\")))\n",
    "    location = Location(x, y, z)\n",
    "    locations.append(location)\n",
    "\n",
    "print(locations[0:8])\n"
   ]
  },
  {
   "cell_type": "code",
   "execution_count": 17,
   "metadata": {},
   "outputs": [
    {
     "name": "stdout",
     "output_type": "stream",
     "text": [
      "0\n",
      "0\n",
      "0\n",
      "19\n",
      "19\n",
      "19\n"
     ]
    },
    {
     "data": {
      "text/plain": [
       "22"
      ]
     },
     "execution_count": 17,
     "metadata": {},
     "output_type": "execute_result"
    }
   ],
   "source": [
    "for fn in (min, max):\n",
    "    print(f\"{fn(map(lambda l:l.x, locations))}\")\n",
    "    print(f\"{fn(map(lambda l:l.y, locations))}\")\n",
    "    print(f\"{fn(map(lambda l:l.z, locations))}\")\n",
    "\n",
    "DIMENSION = max(map(max, locations)) + 1 + 2\n",
    "DIMENSION\n"
   ]
  },
  {
   "cell_type": "code",
   "execution_count": 18,
   "metadata": {},
   "outputs": [],
   "source": [
    "model = np.zeros((DIMENSION, DIMENSION, DIMENSION), dtype=np.int8)\n",
    "\n",
    "AIR = 0\n",
    "ROCK = 1\n",
    "\n",
    "for location in locations:\n",
    "    model[location.z+1, location.y+1, location.x+1] = ROCK\n"
   ]
  },
  {
   "cell_type": "code",
   "execution_count": 19,
   "metadata": {},
   "outputs": [
    {
     "name": "stdout",
     "output_type": "stream",
     "text": [
      "Part 1: 3496 faces are exposed\n"
     ]
    }
   ],
   "source": [
    "# print(model[10, 10, :])\n",
    "# print(np.diff(model[10, 10, :]))\n",
    "# print(np.abs(np.diff(model[10, 10, :])))\n",
    "# print(np.sum(np.abs(np.diff(model[10, 10, :]))))\n",
    "\n",
    "def exposed_faces(data: np.ndarray) -> int:\n",
    "\n",
    "    faces = 0\n",
    "    for i in range(0, DIMENSION):\n",
    "        for j in range(0, DIMENSION):\n",
    "\n",
    "            count = np.sum(np.abs(np.diff(data[i,j,:])))\n",
    "            if count %2 == 1:\n",
    "                print(f\"[{i-1},{j-1},:] - {data[i,j,:]}\")\n",
    "            faces += count\n",
    "\n",
    "            count = np.sum(np.abs(np.diff(data[i,:,j])))\n",
    "            if count %2 == 1:\n",
    "                print(f\"[{i-1},:,{j-1}] - {data[i,:,j]}\")\n",
    "            faces += count\n",
    "\n",
    "            count = np.sum(np.abs(np.diff(data[:,i,j])))\n",
    "            if count %2 == 1:\n",
    "                print(f\"[:,{i-1},{j-1}] - {data[:,i,j]}\")\n",
    "            faces += count\n",
    "\n",
    "    return faces\n",
    "\n",
    "print(f\"Part 1: {exposed_faces(model)} faces are exposed\")\n"
   ]
  },
  {
   "cell_type": "code",
   "execution_count": 20,
   "metadata": {},
   "outputs": [
    {
     "name": "stdout",
     "output_type": "stream",
     "text": [
      "Part 2: 2064 faces are externally exposed\n"
     ]
    }
   ],
   "source": [
    "volume = np.array(model)\n",
    "\n",
    "EXP = 8\n",
    "# mark all margins as exposed\n",
    "volume[0,:,:] = EXP\n",
    "volume[:,0,:] = EXP\n",
    "volume[:,:,0] = EXP\n",
    "volume[-1,:,:] = EXP\n",
    "volume[:,-1,:] = EXP\n",
    "volume[:,:,-1] = EXP\n",
    "\n",
    "# print(\"\\n***** Volume with margins marked exterior: *****\\n\")\n",
    "# for z in range(DIMENSION):\n",
    "#     print(f\"{z}: {volume[z,:,:]}\")\n",
    "\n",
    "seeds = set()\n",
    "for i in range(1,DIMENSION-1):\n",
    "    for j in range(1, DIMENSION-1):\n",
    "        if volume[1,i,j] != ROCK:\n",
    "            volume[1,i,j] = EXP\n",
    "            seeds.add(Location(j,i,1))\n",
    "        if volume[-2,i,j] != ROCK:\n",
    "            volume[-2,i,j] = EXP\n",
    "            seeds.add(Location(j,i,-2))\n",
    "        if volume[i,1,j] != ROCK:\n",
    "            volume[i,1,j] = EXP\n",
    "            seeds.add(Location(j,1,i))\n",
    "        if volume[i,-2,j] != ROCK:\n",
    "            volume[i,-2,j] = EXP\n",
    "            seeds.add(Location(j,-2,i))\n",
    "        if volume[i,j,1] != ROCK:\n",
    "            volume[i,j,1] = EXP\n",
    "            seeds.add(Location(1,j,i))\n",
    "        if volume[i,j,-2] != ROCK:\n",
    "            volume[i,j,-2] = EXP\n",
    "            seeds.add(Location(-2,j,i))\n",
    "\n",
    "# print(\"\\n***** Volume with seeds identified: *****\\n\")\n",
    "# for z in range(DIMENSION):\n",
    "#     print(f\"{z}: {volume[z,:,:]}\")\n",
    "\n",
    "while len(seeds) > 0:\n",
    "    test = seeds.pop()\n",
    "    if volume[test.z-1,test.y,test.x] == AIR:\n",
    "        volume[test.z-1,test.y,test.x] = EXP\n",
    "        seed = Location(test.x, test.y, test.z-1)\n",
    "        seeds.add(seed)\n",
    "    if volume[test.z+1,test.y,test.x] == AIR:\n",
    "        volume[test.z+1,test.y,test.x] = EXP\n",
    "        seed = Location(test.x, test.y, test.z+1)\n",
    "        seeds.add(seed)\n",
    "    if volume[test.z,test.y-1,test.x] == AIR:\n",
    "        volume[test.z,test.y-1,test.x] = EXP\n",
    "        seed = Location(test.x,test.y-1,test.z)\n",
    "        seeds.add(seed)\n",
    "    if volume[test.z,test.y+1,test.x] == AIR:\n",
    "        volume[test.z,test.y+1,test.x] = EXP\n",
    "        seed = Location(test.x,test.y+1,test.z)\n",
    "        seeds.add(seed)\n",
    "    if volume[test.z,test.y,test.x-1] == AIR:\n",
    "        volume[test.z,test.y,test.x-1] = EXP\n",
    "        seed = Location(test.x-1,test.y,test.z)\n",
    "        seeds.add(seed)\n",
    "    if volume[test.z,test.y,test.x+1] == AIR:\n",
    "        volume[test.z,test.y,test.x+1] = EXP\n",
    "        seed = Location(test.x+1,test.y,test.z)\n",
    "        seeds.add(seed)\n",
    "\n",
    "# volume[target.z, target.y, target.x] = 42\n",
    "exterior = volume == EXP\n",
    "exterior = exterior.astype(dtype=np.int8)\n",
    "\n",
    "print(f\"Part 2: {exposed_faces(exterior)} faces are externally exposed\")\n",
    "\n",
    "# print(\"\\n***** Model: *****\\n\")\n",
    "# for z in range(DIMENSION):\n",
    "#     print(f\"{z}: {model[z,:,:]}\")\n",
    "\n",
    "# print(\"\\n***** Volume: *****\\n\")\n",
    "# for z in range(DIMENSION):\n",
    "#     print(f\"{z}: {volume[z,:,:]}\")\n",
    "\n",
    "# print(\"\\n***** Exterior: *****\\n\")\n",
    "# for z in range(DIMENSION):\n",
    "#     print(f\"{z}: {exterior[z,:,:]}\")\n"
   ]
  }
 ],
 "metadata": {
  "kernelspec": {
   "display_name": "Python 3",
   "language": "python",
   "name": "python3"
  },
  "language_info": {
   "codemirror_mode": {
    "name": "ipython",
    "version": 3
   },
   "file_extension": ".py",
   "mimetype": "text/x-python",
   "name": "python",
   "nbconvert_exporter": "python",
   "pygments_lexer": "ipython3",
   "version": "3.10.4"
  },
  "orig_nbformat": 4,
  "vscode": {
   "interpreter": {
    "hash": "3ad933181bd8a04b432d3370b9dc3b0662ad032c4dfaa4e4f1596c548f763858"
   }
  }
 },
 "nbformat": 4,
 "nbformat_minor": 2
}
