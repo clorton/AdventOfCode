{
 "cells": [
  {
   "cell_type": "code",
   "execution_count": 1,
   "metadata": {},
   "outputs": [],
   "source": [
    "import numpy as np\n"
   ]
  },
  {
   "cell_type": "code",
   "execution_count": 2,
   "metadata": {},
   "outputs": [
    {
     "data": {
      "text/plain": [
       "['Sensor at x=3844106, y=3888618: closest beacon is at x=3225436, y=4052707',\n",
       " 'Sensor at x=1380352, y=1857923: closest beacon is at x=10411, y=2000000',\n",
       " 'Sensor at x=272, y=1998931: closest beacon is at x=10411, y=2000000',\n",
       " 'Sensor at x=2119959, y=184595: closest beacon is at x=2039500, y=-250317',\n",
       " 'Sensor at x=1675775, y=2817868: closest beacon is at x=2307516, y=3313037',\n",
       " 'Sensor at x=2628344, y=2174105: closest beacon is at x=3166783, y=2549046',\n",
       " 'Sensor at x=2919046, y=3736158: closest beacon is at x=3145593, y=4120490',\n",
       " 'Sensor at x=16, y=2009884: closest beacon is at x=10411, y=2000000']"
      ]
     },
     "execution_count": 2,
     "metadata": {},
     "output_type": "execute_result"
    }
   ],
   "source": [
    "from pathlib import Path\n",
    "\n",
    "WORKDIR = Path.cwd().absolute()\n",
    "INPUTFILE = WORKDIR / \"day-15.txt\"\n",
    "\n",
    "with INPUTFILE.open(\"r\") as file:\n",
    "    inputs = [line.strip() for line in file.readlines()]\n",
    "\n",
    "_inputs = [\n",
    "]\n",
    "\n",
    "inputs[0:8]"
   ]
  },
  {
   "cell_type": "code",
   "execution_count": 3,
   "metadata": {},
   "outputs": [
    {
     "name": "stdout",
     "output_type": "stream",
     "text": [
      "(3844106, 3888618, 3225436, 4052707)\n",
      "(3448383, 3674287, 3225436, 4052707)\n"
     ]
    }
   ],
   "source": [
    "sensors = []\n",
    "for report in inputs:\n",
    "    split = report.split(\" \")\n",
    "    sx = int(split[2][2:-1])\n",
    "    sy = int(split[3][2:-1])\n",
    "    bx = int(split[8][2:-1])\n",
    "    by = int(split[9][2:])\n",
    "    sensors.append((sx, sy, bx, by))\n",
    "\n",
    "print(sensors[0])\n",
    "print(sensors[-1])\n"
   ]
  },
  {
   "cell_type": "code",
   "execution_count": 4,
   "metadata": {},
   "outputs": [
    {
     "name": "stdout",
     "output_type": "stream",
     "text": [
      "(16,130612) - (3995832,3988246)\n",
      "(-175938,-250317) - (4552923,4120490)\n"
     ]
    }
   ],
   "source": [
    "min_sx = min(map(lambda e: e[0], sensors))\n",
    "max_sx = max(map(lambda e: e[0], sensors))\n",
    "min_sy = min(map(lambda e: e[1], sensors))\n",
    "max_sy = max(map(lambda e: e[1], sensors))\n",
    "min_bx = min(map(lambda e: e[2], sensors))\n",
    "max_bx = max(map(lambda e: e[2], sensors))\n",
    "min_by = min(map(lambda e: e[3], sensors))\n",
    "max_by = max(map(lambda e: e[3], sensors))\n",
    "\n",
    "print(f\"({min_sx},{min_sy}) - ({max_sx},{max_sy})\")\n",
    "print(f\"({min_bx},{min_by}) - ({max_bx},{max_by})\")\n"
   ]
  },
  {
   "cell_type": "code",
   "execution_count": 5,
   "metadata": {},
   "outputs": [
    {
     "name": "stdout",
     "output_type": "stream",
     "text": [
      "Exclusion(A=Point(x=3844106, y=3105859), B=Point(x=4626865, y=3888618), C=Point(x=3844106, y=4671377), D=Point(x=3061347, y=3888618))\n",
      "Exclusion(A=Point(x=3448383, y=3072920), B=Point(x=4049750, y=3674287), C=Point(x=3448383, y=4275654), D=Point(x=2847016, y=3674287))\n"
     ]
    }
   ],
   "source": [
    "#  |\n",
    "#  |\n",
    "#  |      .\n",
    "#  |     / \\\n",
    "#  |    / C \\\n",
    "#  |   /     \\\n",
    "#  |  /       \\\n",
    "#  | . D  S  B .\n",
    "#  |  \\       /\n",
    "#  |   \\     /\n",
    "#  |    \\ A /\n",
    "#  |     \\ /\n",
    "#  |      .\n",
    "#  |\n",
    "# -+------------\n",
    "#  |\n",
    "\n",
    "from collections import namedtuple\n",
    "\n",
    "Point = namedtuple(\"Point\", [\"x\", \"y\"])\n",
    "Exclusion = namedtuple(\"Exclusion\", [\"A\", \"B\", \"C\", \"D\"])\n",
    "\n",
    "exclusions = []\n",
    "for sensor in sensors:\n",
    "    sx, sy, bx, by = sensor\n",
    "    radius = abs(sx-bx)+abs(sy-by)\n",
    "    exclusions.append(Exclusion(Point(sx,sy-radius),Point(sx+radius,sy),Point(sx,sy+radius),Point(sx-radius,sy)))\n",
    "\n",
    "print(exclusions[0])\n",
    "print(exclusions[-1])\n"
   ]
  },
  {
   "cell_type": "code",
   "execution_count": 6,
   "metadata": {},
   "outputs": [
    {
     "name": "stdout",
     "output_type": "stream",
     "text": [
      "Intercepts(AB=-738247, DC=827271, DA=6949965, CB=8515483)\n",
      "Intercepts(AB=-375463, DC=827271, DA=6521303, CB=7724037)\n"
     ]
    }
   ],
   "source": [
    "#  *\n",
    "#  |\\\n",
    "#  | \\\n",
    "#  |  \\\n",
    "#  |   \\\n",
    "#  |    \\\n",
    "#  |     \\\n",
    "#  |      .\n",
    "#  |     / \\\n",
    "#  |    / C \\\n",
    "#  *   /     \\\n",
    "#  |\\ /       \\\n",
    "#  | . D  S  B .\n",
    "#  |/ \\       /\n",
    "#  *   \\     /\n",
    "#  |    \\ A /\n",
    "#  |     \\ /\n",
    "#  |      .\n",
    "#  |     /\n",
    "# -+------------\n",
    "#  |   /\n",
    "#  |  /\n",
    "#  | /\n",
    "#  |/\n",
    "#  *\n",
    "\n",
    "Intercepts = namedtuple(\"Intercepts\", [\"AB\", \"DC\", \"DA\", \"CB\"])\n",
    "\n",
    "intercepts = []\n",
    "for exclusion in exclusions:\n",
    "    bx, by = exclusion.B\n",
    "    dx, dy = exclusion.D\n",
    "    intercepts.append(Intercepts(by-bx, dy-dx, dy+dx, by+bx))\n",
    "\n",
    "print(intercepts[0])\n",
    "print(intercepts[-1])\n"
   ]
  },
  {
   "cell_type": "code",
   "execution_count": 7,
   "metadata": {},
   "outputs": [
    {
     "name": "stdout",
     "output_type": "stream",
     "text": [
      "No overlap with Exclusion(A=Point(x=3844106, y=3105859), B=Point(x=4626865, y=3888618), C=Point(x=3844106, y=4671377), D=Point(x=3061347, y=3888618))\n",
      "New segment Segment(start=10411, end=2750293) with exclusion Exclusion(A=Point(x=1380352, y=345905), B=Point(x=2892370, y=1857923), C=Point(x=1380352, y=3369941), D=Point(x=-131666, y=1857923))\n",
      "New segment Segment(start=-9867, end=10411) with exclusion Exclusion(A=Point(x=272, y=1987723), B=Point(x=11480, y=1998931), C=Point(x=272, y=2010139), D=Point(x=-10936, y=1998931))\n",
      "No overlap with Exclusion(A=Point(x=2119959, y=-330776), B=Point(x=2635330, y=184595), C=Point(x=2119959, y=699966), D=Point(x=1604588, y=184595))\n",
      "New segment Segment(start=1366733, end=1984817) with exclusion Exclusion(A=Point(x=1675775, y=1690958), B=Point(x=2802685, y=2817868), C=Point(x=1675775, y=3944778), D=Point(x=548865, y=2817868))\n",
      "New segment Segment(start=1889069, end=3367619) with exclusion Exclusion(A=Point(x=2628344, y=1260725), B=Point(x=3541724, y=2174105), C=Point(x=2628344, y=3087485), D=Point(x=1714964, y=2174105))\n",
      "No overlap with Exclusion(A=Point(x=2919046, y=3125279), B=Point(x=3529925, y=3736158), C=Point(x=2919046, y=4347037), D=Point(x=2308167, y=3736158))\n",
      "New segment Segment(start=-10379, end=10411) with exclusion Exclusion(A=Point(x=16, y=1989605), B=Point(x=20295, y=2009884), C=Point(x=16, y=2030163), D=Point(x=-20263, y=2009884))\n",
      "No overlap with Exclusion(A=Point(x=2504789, y=3215198), B=Point(x=3277837, y=3988246), C=Point(x=2504789, y=4761294), D=Point(x=1731741, y=3988246))\n",
      "No overlap with Exclusion(A=Point(x=2861842, y=2003549), B=Point(x=3287061, y=2428768), C=Point(x=2861842, y=2853987), D=Point(x=2436623, y=2428768))\n",
      "No overlap with Exclusion(A=Point(x=3361207, y=-1572024), B=Point(x=5063843, y=130612), C=Point(x=3361207, y=1833248), D=Point(x=1658571, y=130612))\n",
      "New segment Segment(start=563442, end=1100270) with exclusion Exclusion(A=Point(x=831856, y=-1085446), B=Point(x=2508786, y=591484), C=Point(x=831856, y=2268414), D=Point(x=-845074, y=591484))\n",
      "New segment Segment(start=2535371, end=3715829) with exclusion Exclusion(A=Point(x=3125600, y=900619), B=Point(x=3970405, y=1745424), C=Point(x=3125600, y=2590229), D=Point(x=2280795, y=1745424))\n",
      "New segment Segment(start=10411, end=32751) with exclusion Exclusion(A=Point(x=21581, y=1988830), B=Point(x=1276231, y=3243480), C=Point(x=21581, y=4498130), D=Point(x=-1233069, y=3243480))\n",
      "No overlap with Exclusion(A=Point(x=2757890, y=2611159), B=Point(x=3334016, y=3187285), C=Point(x=2757890, y=3763411), D=Point(x=2181764, y=3187285))\n",
      "New segment Segment(start=3445903, end=4253073) with exclusion Exclusion(A=Point(x=3849488, y=1596415), B=Point(x=4667156, y=2414083), C=Point(x=3849488, y=3231751), D=Point(x=3031820, y=2414083))\n",
      "No overlap with Exclusion(A=Point(x=3862221, y=-233757), B=Point(x=4853124, y=757146), C=Point(x=3862221, y=1748049), D=Point(x=2871318, y=757146))\n",
      "No overlap with Exclusion(A=Point(x=3558604, y=2157225), B=Point(x=4362409, y=2961030), C=Point(x=3558604, y=3764835), D=Point(x=2754799, y=2961030))\n",
      "New segment Segment(start=3082762, end=4908902) with exclusion Exclusion(A=Point(x=3995832, y=500256), B=Point(x=5202239, y=1706663), C=Point(x=3995832, y=2913070), D=Point(x=2789425, y=1706663))\n",
      "No overlap with Exclusion(A=Point(x=1082213, y=2087734), B=Point(x=2702561, y=3708082), C=Point(x=1082213, y=5328430), D=Point(x=-538135, y=3708082))\n",
      "No overlap with Exclusion(A=Point(x=135817, y=948865), B=Point(x=613993, y=1427041), C=Point(x=135817, y=1905217), D=Point(x=-342359, y=1427041))\n",
      "New segment Segment(start=2393367, end=2541377) with exclusion Exclusion(A=Point(x=2467372, y=-678189), B=Point(x=3843469, y=697908), C=Point(x=2467372, y=2074005), D=Point(x=1091275, y=697908))\n",
      "No overlap with Exclusion(A=Point(x=3448383, y=3072920), B=Point(x=4049750, y=3674287), C=Point(x=3448383, y=4275654), D=Point(x=2847016, y=3674287))\n",
      "[Segment(start=10411, end=2750293), Segment(start=-9867, end=10411), Segment(start=1366733, end=1984817), Segment(start=1889069, end=3367619), Segment(start=-10379, end=10411), Segment(start=563442, end=1100270), Segment(start=2535371, end=3715829), Segment(start=10411, end=32751), Segment(start=3445903, end=4253073), Segment(start=3082762, end=4908902), Segment(start=2393367, end=2541377)]\n"
     ]
    }
   ],
   "source": [
    "y = 2_000_000\n",
    "Segment = namedtuple(\"Segment\", [\"start\", \"end\"])\n",
    "segments = []\n",
    "for exclusion, intercept in zip(exclusions, intercepts):\n",
    "    if (y < exclusion.A.y) or (y > exclusion.C.y):\n",
    "        print(f\"No overlap with {exclusion}\")\n",
    "        continue\n",
    "    if y < exclusion.B.y:\n",
    "        start = intercept.DA - y    # start = y and intercept.DA\n",
    "        end   = y - intercept.AB    # end   = y and intercept.AB\n",
    "    else:   # y > exclusion.B.y\n",
    "        start = y - intercept.DC    # start = y and intercept.DC\n",
    "        end   = intercept.CB - y    # end   = y and intercept.CB\n",
    "    segment = Segment(start, end)\n",
    "    print(f\"New segment {segment} with exclusion {exclusion}\")\n",
    "    segments.append(segment)\n",
    "\n",
    "print(segments)\n"
   ]
  },
  {
   "cell_type": "code",
   "execution_count": 8,
   "metadata": {},
   "outputs": [
    {
     "data": {
      "text/plain": [
       "[Segment(start=-10379, end=10411),\n",
       " Segment(start=-9867, end=10411),\n",
       " Segment(start=10411, end=32751),\n",
       " Segment(start=10411, end=2750293),\n",
       " Segment(start=563442, end=1100270),\n",
       " Segment(start=1366733, end=1984817),\n",
       " Segment(start=1889069, end=3367619),\n",
       " Segment(start=2393367, end=2541377),\n",
       " Segment(start=2535371, end=3715829),\n",
       " Segment(start=3082762, end=4908902),\n",
       " Segment(start=3445903, end=4253073)]"
      ]
     },
     "execution_count": 8,
     "metadata": {},
     "output_type": "execute_result"
    }
   ],
   "source": [
    "from functools import cmp_to_key\n",
    "\n",
    "segments = sorted(segments, key=cmp_to_key(lambda a, b: a.start - b.start if a.start != b.start else a.end - b.end))\n",
    "segments"
   ]
  },
  {
   "cell_type": "code",
   "execution_count": 9,
   "metadata": {},
   "outputs": [
    {
     "name": "stdout",
     "output_type": "stream",
     "text": [
      "Removing 1 from total...\n",
      "Part 1: total = 4919281\n",
      "[Segment(start=-10379, end=4908902)]\n"
     ]
    }
   ],
   "source": [
    "consolidated = []\n",
    "total = 0\n",
    "current = None\n",
    "for subsequent in segments:\n",
    "    if current is None:\n",
    "        current = subsequent\n",
    "        continue\n",
    "    if subsequent.start <= current.end:\n",
    "        current = Segment(current.start, max(subsequent.end, current.end))\n",
    "    else:\n",
    "        total += current.end - current.start + 1\n",
    "        consolidated.append(current)\n",
    "        current = subsequent\n",
    "\n",
    "total += current.end - current.start + 1\n",
    "consolidated.append(current)\n",
    "current = subsequent\n",
    "\n",
    "beacons_on_y = len(set(map(lambda r: r[2], filter(lambda r: r[3] == y, sensors))))\n",
    "\n",
    "print(f\"Removing {beacons_on_y} from total...\")\n",
    "total -= beacons_on_y\n",
    "\n",
    "# 4919278 too small\n",
    "# 4919282 too large\n",
    "print(f\"Part 1: total = {total}\")\n",
    "print(consolidated)\n"
   ]
  },
  {
   "cell_type": "code",
   "execution_count": 10,
   "metadata": {},
   "outputs": [
    {
     "name": "stdout",
     "output_type": "stream",
     "text": [
      "Exclusion(A=Point(x=16, y=1989605), B=Point(x=20295, y=2009884), C=Point(x=16, y=2030163), D=Point(x=-20263, y=2009884))\n",
      "Exclusion(A=Point(x=272, y=1987723), B=Point(x=11480, y=1998931), C=Point(x=272, y=2010139), D=Point(x=-10936, y=1998931))\n",
      "Exclusion(A=Point(x=21581, y=1988830), B=Point(x=1276231, y=3243480), C=Point(x=21581, y=4498130), D=Point(x=-1233069, y=3243480))\n",
      "Exclusion(A=Point(x=135817, y=948865), B=Point(x=613993, y=1427041), C=Point(x=135817, y=1905217), D=Point(x=-342359, y=1427041))\n",
      "Exclusion(A=Point(x=831856, y=-1085446), B=Point(x=2508786, y=591484), C=Point(x=831856, y=2268414), D=Point(x=-845074, y=591484))\n",
      "Exclusion(A=Point(x=1082213, y=2087734), B=Point(x=2702561, y=3708082), C=Point(x=1082213, y=5328430), D=Point(x=-538135, y=3708082))\n",
      "Exclusion(A=Point(x=1380352, y=345905), B=Point(x=2892370, y=1857923), C=Point(x=1380352, y=3369941), D=Point(x=-131666, y=1857923))\n",
      "Exclusion(A=Point(x=1675775, y=1690958), B=Point(x=2802685, y=2817868), C=Point(x=1675775, y=3944778), D=Point(x=548865, y=2817868))\n",
      "Exclusion(A=Point(x=2119959, y=-330776), B=Point(x=2635330, y=184595), C=Point(x=2119959, y=699966), D=Point(x=1604588, y=184595))\n",
      "Exclusion(A=Point(x=2467372, y=-678189), B=Point(x=3843469, y=697908), C=Point(x=2467372, y=2074005), D=Point(x=1091275, y=697908))\n",
      "Exclusion(A=Point(x=2504789, y=3215198), B=Point(x=3277837, y=3988246), C=Point(x=2504789, y=4761294), D=Point(x=1731741, y=3988246))\n",
      "Exclusion(A=Point(x=2628344, y=1260725), B=Point(x=3541724, y=2174105), C=Point(x=2628344, y=3087485), D=Point(x=1714964, y=2174105))\n",
      "Exclusion(A=Point(x=2757890, y=2611159), B=Point(x=3334016, y=3187285), C=Point(x=2757890, y=3763411), D=Point(x=2181764, y=3187285))\n",
      "Exclusion(A=Point(x=2861842, y=2003549), B=Point(x=3287061, y=2428768), C=Point(x=2861842, y=2853987), D=Point(x=2436623, y=2428768))\n",
      "Exclusion(A=Point(x=2919046, y=3125279), B=Point(x=3529925, y=3736158), C=Point(x=2919046, y=4347037), D=Point(x=2308167, y=3736158))\n",
      "Exclusion(A=Point(x=3125600, y=900619), B=Point(x=3970405, y=1745424), C=Point(x=3125600, y=2590229), D=Point(x=2280795, y=1745424))\n",
      "Exclusion(A=Point(x=3361207, y=-1572024), B=Point(x=5063843, y=130612), C=Point(x=3361207, y=1833248), D=Point(x=1658571, y=130612))\n",
      "Exclusion(A=Point(x=3448383, y=3072920), B=Point(x=4049750, y=3674287), C=Point(x=3448383, y=4275654), D=Point(x=2847016, y=3674287))\n",
      "Exclusion(A=Point(x=3558604, y=2157225), B=Point(x=4362409, y=2961030), C=Point(x=3558604, y=3764835), D=Point(x=2754799, y=2961030))\n",
      "Exclusion(A=Point(x=3844106, y=3105859), B=Point(x=4626865, y=3888618), C=Point(x=3844106, y=4671377), D=Point(x=3061347, y=3888618))\n",
      "Exclusion(A=Point(x=3849488, y=1596415), B=Point(x=4667156, y=2414083), C=Point(x=3849488, y=3231751), D=Point(x=3031820, y=2414083))\n",
      "Exclusion(A=Point(x=3862221, y=-233757), B=Point(x=4853124, y=757146), C=Point(x=3862221, y=1748049), D=Point(x=2871318, y=757146))\n",
      "Exclusion(A=Point(x=3995832, y=500256), B=Point(x=5202239, y=1706663), C=Point(x=3995832, y=2913070), D=Point(x=2789425, y=1706663))\n"
     ]
    }
   ],
   "source": [
    "def compare(a:Exclusion, b:Exclusion) -> int:\n",
    "    if a.A.x < b.A.x:\n",
    "        return -1\n",
    "    elif a.A.x > b.A.x:\n",
    "        return 1\n",
    "    if a.A.y < b.A.y:\n",
    "        return -1\n",
    "    elif a.A.y > b.A.y:\n",
    "        return 1\n",
    "    if a.D.x < b.D.x:\n",
    "        return -1\n",
    "    elif a.D.x > b.D.x:\n",
    "        return 1\n",
    "    if a.D.y < b.D.y:\n",
    "        return -1\n",
    "    elif a.D.y > b.D.y:\n",
    "        return 1\n",
    "    return 0\n",
    "\n",
    "ordered = sorted(exclusions, key=cmp_to_key(compare))\n",
    "for exclusion in ordered:\n",
    "    print(exclusion)\n"
   ]
  },
  {
   "cell_type": "code",
   "execution_count": 19,
   "metadata": {},
   "outputs": [
    {
     "name": "stdout",
     "output_type": "stream",
     "text": [
      "y=3363767\n",
      "total=4000000\n",
      "[Segment(start=0, end=3157534), Segment(start=3157536, end=4000000)]\n"
     ]
    }
   ],
   "source": [
    "def intersection_y(y:int) -> list:\n",
    "\n",
    "    Segment = namedtuple(\"Segment\", [\"start\", \"end\"])\n",
    "    segments = []\n",
    "    for exclusion, intercept in zip(exclusions, intercepts):\n",
    "        if (y < exclusion.A.y) or (y > exclusion.C.y):\n",
    "            # print(f\"No overlap with {exclusion}\")\n",
    "            continue\n",
    "        if y < exclusion.B.y:\n",
    "            start = intercept.DA - y    # start = y and intercept.DA\n",
    "            end   = y - intercept.AB    # end   = y and intercept.AB\n",
    "        else:   # y > exclusion.B.y\n",
    "            start = y - intercept.DC    # start = y and intercept.DC\n",
    "            end   = intercept.CB - y    # end   = y and intercept.CB\n",
    "        segment = Segment(start, end)\n",
    "        # print(f\"New segment {segment} with exclusion {exclusion}\")\n",
    "        segments.append(segment)\n",
    "\n",
    "    return segments\n",
    "\n",
    "def intersection_x(x:int) -> list:\n",
    "\n",
    "    Segment = namedtuple(\"Segment\", [\"start\", \"end\"])\n",
    "    segments = []\n",
    "    for exclusion, intercept in zip(exclusions, intercepts):\n",
    "        if (x < exclusion.D.x) or (x > exclusion.B.x):\n",
    "            # print(f\"No overlap with {exclusion}\")\n",
    "            continue\n",
    "        if x < exclusion.A.x:\n",
    "            start = intercept.DA - x\n",
    "            end   = intercept.DC + x\n",
    "        else:   # x > exclusion.A.x\n",
    "            start = intercept.AB + x\n",
    "            end   = intercept.CB - x\n",
    "        segment = Segment(start, end)\n",
    "        # print(f\"New segment {segment} with exclusion {exclusion}\")\n",
    "        segments.append(segment)\n",
    "\n",
    "    return segments\n",
    "\n",
    "def no_beacon(segments:list) -> int:\n",
    "\n",
    "    ordered = sorted(segments, key=cmp_to_key(lambda a, b: a.start - b.start if a.start != b.start else a.end - b.end))\n",
    "    consolidated = []\n",
    "    total = 0\n",
    "    current = None\n",
    "    for subsequent in ordered:\n",
    "\n",
    "        if subsequent.end < 0 or subsequent.start > 4_000_000:\n",
    "            continue\n",
    "\n",
    "        if subsequent.start < 0:\n",
    "            subsequent = Segment(0, subsequent.end)\n",
    "        if subsequent.end > 4_000_000:\n",
    "            subsequent = Segment(subsequent.start, 4_000_000)\n",
    "\n",
    "        if current is None:\n",
    "            current = subsequent\n",
    "            continue\n",
    "        if subsequent.start <= current.end:\n",
    "            current = Segment(current.start, max(subsequent.end, current.end))\n",
    "        else:\n",
    "            total += current.end - current.start + 1\n",
    "            consolidated.append(current)\n",
    "            current = subsequent\n",
    "\n",
    "    total += current.end - current.start + 1\n",
    "    consolidated.append(current)\n",
    "    current = subsequent\n",
    "\n",
    "    # beacons_on_y = len(set(map(lambda r: r[2], filter(lambda r: r[3] == y, sensors))))\n",
    "\n",
    "    # # print(f\"Removing {beacons_on_y} from total...\")\n",
    "    # total -= beacons_on_y\n",
    "\n",
    "    # # print(consolidated)\n",
    "    return total, consolidated\n",
    "\n",
    "# print(no_beacon(intersection_y(0)))\n",
    "# print(no_beacon(intersection_y(4_000_000)))\n",
    "# print(no_beacon(intersection_x(0)))\n",
    "# print(no_beacon(intersection_x(4_000_000)))\n",
    "\n",
    "for y in range(4_000_001):\n",
    "    total, segments = no_beacon(intersection_y(y))\n",
    "    if total < 4_000_001:\n",
    "        print(f\"{y=}\")\n",
    "        print(f\"{total=}\")\n",
    "        print(segments)\n"
   ]
  },
  {
   "cell_type": "code",
   "execution_count": 20,
   "metadata": {},
   "outputs": [
    {
     "name": "stdout",
     "output_type": "stream",
     "text": [
      "12630143363767\n"
     ]
    },
    {
     "name": "stderr",
     "output_type": "stream",
     "text": [
      "Bad pipe message: %s [b'\\x9b\\x911\\xfe\\xe80@\\x8dP\\x8e\\xaa\\xfeT=:G\\xe7\\xe0 \\xcb\\xab(~L\\xcdA\\xc7\\x04\\x92tK\\x8e\\x8b\\x04\\xf1Ij\\x90\\x95~\\xe7\\x89\\xb6+\"+j\\x1cIv0\\x00\\x08\\x13\\x02\\x13\\x03\\x13\\x01\\x00\\xff\\x01\\x00\\x00\\x8f\\x00\\x00\\x00\\x0e\\x00\\x0c\\x00\\x00\\t127.0.0.1\\x00\\x0b\\x00\\x04', b'\\x01\\x02']\n",
      "Bad pipe message: %s [b'\\xaeLD\\x8e\\x03\\xc3P\\x89\\x9a\\x90p\\xa2\\x19\\x08\\xe6\\xf0\\xc7\\r\\x00\\x00|\\xc0,\\xc00\\x00\\xa3\\x00\\x9f\\xcc\\xa9\\xcc\\xa8\\xcc\\xaa\\xc0\\xaf\\xc0\\xad\\xc0\\xa3\\xc0\\x9f\\xc0]\\xc0a\\xc0W\\xc0S\\xc0+\\xc0', b\"\\xa2\\x00\\x9e\\xc0\\xae\\xc0\\xac\\xc0\\xa2\\xc0\\x9e\\xc0\\\\\\xc0`\\xc0V\\xc0R\\xc0$\\xc0(\\x00k\\x00j\\xc0#\\xc0'\\x00g\\x00@\\xc0\\n\\xc0\\x14\\x009\\x008\\xc0\\t\\xc0\"]\n",
      "Bad pipe message: %s [b'3\\x002\\x00\\x9d\\xc0\\xa1\\xc0\\x9d\\xc0Q\\x00\\x9c\\xc0\\xa0\\xc0\\x9c\\xc0']\n",
      "Bad pipe message: %s [b'=\\x00<\\x005\\x00/\\x00\\x9a\\x00\\x99\\xc0\\x07\\xc0\\x11\\x00\\x96\\x00\\x05\\x00\\xff\\x01\\x00\\x00j\\x00\\x00\\x00\\x0e\\x00\\x0c\\x00\\x00\\t127.0.0.1\\x00\\x0b\\x00\\x04\\x03\\x00\\x01\\x02\\x00\\n\\x00\\x0c\\x00\\n\\x00\\x1d\\x00\\x17\\x00\\x1e\\x00\\x19\\x00\\x18\\x00#\\x00\\x00\\x00\\x16\\x00\\x00\\x00\\x17\\x00\\x00']\n",
      "Bad pipe message: %s [b'N\\xac\\x01\\x12yIq\\xf9\\x9ah\\xb6\\xf6<\\x90\\xb09\\x96\\x14\\x00\\x00\\xa6\\xc0,\\xc00\\x00\\xa3\\x00\\x9f\\xcc\\xa9\\xcc\\xa8\\xcc\\xaa\\xc0\\xaf\\xc0\\xad\\xc0\\xa3\\xc0\\x9f\\xc0]\\xc0a\\xc0W\\xc0S\\xc0+\\xc0/\\x00\\xa2\\x00\\x9e\\xc0\\xae\\xc0\\xac\\xc0\\xa2\\xc0\\x9e\\xc0\\\\\\xc0`\\xc0V\\xc0R\\xc0$\\xc0(\\x00k\\x00j\\xc0s\\xc0w\\x00', b\"\\xc3\\xc0#\\xc0'\\x00g\\x00@\\xc0r\\xc0v\\x00\\xbe\\x00\\xbd\\xc0\\n\\xc0\\x14\\x009\\x008\\x00\\x88\\x00\\x87\\xc0\\t\\xc0\\x13\\x003\\x002\\x00\\x9a\\x00\\x99\\x00E\\x00D\\xc0\\x07\\xc0\\x11\\xc0\\x08\\xc0\\x12\\x00\\x16\\x00\\x13\\x00\\x9d\\xc0\\xa1\\xc0\\x9d\\xc0Q\\x00\\x9c\\xc0\\xa0\\xc0\\x9c\\xc0P\\x00=\\x00\\xc0\\x00<\\x00\\xba\\x005\\x00\\x84\\x00/\\x00\\x96\\x00A\\x00\\x05\\x00\\n\\x00\\xff\\x01\\x00\\x00j\\x00\\x00\\x00\\x0e\\x00\\x0c\\x00\\x00\\t127.0.0.1\\x00\\x0b\\x00\\x04\\x03\\x00\\x01\\x02\\x00\\n\\x00\\x0c\\x00\\n\\x00\\x1d\\x00\\x17\\x00\\x1e\\x00\\x19\\x00\\x18\\x00#\\x00\\x00\\x00\\x16\\x00\\x00\\x00\\x17\\x00\\x00\\x00\\r\\x000\\x00.\\x04\\x03\\x05\\x03\\x06\\x03\\x08\\x07\\x08\\x08\\x08\\t\\x08\\n\\x08\\x0b\\x08\\x04\\x08\\x05\\x08\\x06\\x04\\x01\\x05\\x01\\x06\\x01\\x03\\x03\\x02\\x03\\x03\\x01\"]\n",
      "Bad pipe message: %s [b'\\x03', b'\\x02']\n",
      "Bad pipe message: %s [b'\\x05\\x02\\x06']\n",
      "Bad pipe message: %s [b'S(j\\xe8Q\\xaf\\x97\\xd0\\x88\\x88\\x9b[[\\x0b\\x00\\xb0%Z\\x00\\x00>\\xc0\\x14\\xc0\\n\\x009\\x00']\n",
      "Bad pipe message: %s [b'7\\x006\\xc0\\x0f\\xc0\\x05\\x005\\xc0\\x13\\xc0\\t\\x003\\x002\\x001\\x000\\xc0\\x0e\\xc0\\x04\\x00/\\x00\\x9a\\x00\\x99\\x00\\x98\\x00\\x97\\x00\\x96\\x00\\x07\\xc0\\x11\\xc0\\x07\\xc0\\x0c\\xc0\\x02\\x00\\x05\\x00\\x04\\x00\\xff\\x02\\x01']\n",
      "Bad pipe message: %s [b'\\xc7v\\xfaNX\\xf6\\xfeVA\\xd1d6\"K\\x00YN\\x93\\x00\\x00\\xa2\\xc0\\x14\\xc0\\n\\x009\\x008\\x007\\x006\\x00\\x88\\x00\\x87\\x00\\x86\\x00\\x85\\xc0\\x19\\x00:\\x00\\x89\\xc0\\x0f\\xc0\\x05\\x005\\x00\\x84\\xc0\\x13\\xc0\\t\\x003\\x002\\x001\\x000\\x00\\x9a\\x00\\x99\\x00\\x98\\x00\\x97\\x00E\\x00D\\x00C\\x00B\\xc0\\x18\\x004\\x00\\x9b\\x00F\\xc0\\x0e\\xc0\\x04\\x00/\\x00\\x96\\x00A\\x00\\x07\\xc0\\x11\\xc0\\x07\\xc0\\x16\\x00\\x18\\xc0\\x0c\\xc0\\x02\\x00\\x05\\x00\\x04\\xc0\\x12\\xc0\\x08\\x00\\x16\\x00\\x13\\x00\\x10\\x00\\r\\xc0\\x17\\x00\\x1b\\xc0\\r\\xc0\\x03\\x00\\n\\x00\\x15\\x00\\x12\\x00\\x0f\\x00\\x0c\\x00\\x1a\\x00\\t\\x00\\x14\\x00']\n",
      "Bad pipe message: %s [b'\\x19\\x00\\x08\\x00\\x06\\x00\\x17\\x00\\x03\\xc0\\x10\\xc0\\x06\\xc0\\x15\\xc0']\n",
      "Bad pipe message: %s [b'\\x01\\x00\\x02\\x00\\x01\\x00\\xff\\x02\\x01\\x00']\n",
      "Bad pipe message: %s [b'\\xa7\\xe6\\xf1H\\x86$\\xf4\\x15M}9f\\xd7\\x1e\\xb7\\x06\\x8e\\xce\\x00\\x00\\xa2\\xc0\\x14\\xc0\\n\\x009\\x008\\x007\\x006\\x00\\x88\\x00\\x87\\x00\\x86\\x00\\x85\\xc0\\x19\\x00:\\x00\\x89\\xc0\\x0f\\xc0\\x05\\x005\\x00\\x84\\xc0\\x13\\xc0\\t\\x003\\x002\\x001\\x000\\x00\\x9a\\x00\\x99\\x00\\x98\\x00\\x97\\x00E\\x00D\\x00C\\x00B\\xc0\\x18\\x004\\x00\\x9b\\x00F\\xc0\\x0e\\xc0\\x04\\x00/\\x00\\x96\\x00A\\x00\\x07\\xc0\\x11\\xc0\\x07\\xc0\\x16\\x00\\x18\\xc0\\x0c\\xc0\\x02\\x00\\x05\\x00\\x04\\xc0\\x12\\xc0\\x08\\x00\\x16\\x00\\x13\\x00\\x10\\x00\\r\\xc0\\x17\\x00\\x1b\\xc0\\r\\xc0\\x03\\x00\\n\\x00\\x15\\x00\\x12\\x00\\x0f\\x00\\x0c\\x00\\x1a\\x00\\t\\x00\\x14\\x00\\x11\\x00\\x19\\x00\\x08\\x00\\x06\\x00\\x17\\x00\\x03\\xc0\\x10\\xc0\\x06\\xc0\\x15\\xc0\\x0b\\xc0\\x01\\x00\\x02\\x00\\x01\\x00\\xff\\x02\\x01\\x00\\x00C\\x00\\x00\\x00\\x0e\\x00\\x0c\\x00\\x00\\t127.0.0.1\\x00\\x0b\\x00\\x04\\x03\\x00\\x01\\x02\\x00\\n\\x00\\x1c\\x00\\x1a\\x00\\x17\\x00\\x19\\x00\\x1c\\x00\\x1b\\x00\\x18\\x00\\x1a\\x00', b'\\x0e\\x00\\r\\x00\\x0b\\x00\\x0c\\x00\\t\\x00\\n\\x00#\\x00\\x00\\x00\\x0f\\x00\\x01\\x01\\x15']\n",
      "Bad pipe message: %s [b'Uz\\xeb\\xfc\\x9f\\xf0\\x95\\x159\\xffxjl\\xd7e\\xef\\x87\\xc4\\x00\\x00\\x86\\xc00\\xc0,\\xc0(\\xc0$\\xc0\\x14\\xc0\\n\\x00\\xa5\\x00\\xa3\\x00\\xa1\\x00\\x9f\\x00k\\x00j\\x00i\\x00h\\x009\\x008\\x007\\x006\\xc02\\xc0', b\"*\\xc0&\\xc0\\x0f\\xc0\\x05\\x00\\x9d\\x00=\\x005\\xc0/\\xc0+\\xc0'\\xc0#\\xc0\\x13\\xc0\\t\\x00\\xa4\\x00\\xa2\\x00\\xa0\\x00\\x9e\\x00g\\x00@\\x00?\\x00>\\x003\\x002\"]\n",
      "Bad pipe message: %s [b'/\\x95\\xd8\\xce\\xb8\\xf2\\x19\\xde\\xb2_\\xdd\\xe6fn\\x82\\x14\\xbf\\r\\x00\\x00\\xf4\\xc00\\xc0,\\xc0(\\xc0$\\xc0\\x14\\xc0\\n\\x00\\xa5\\x00\\xa3\\x00\\xa1\\x00\\x9f\\x00k\\x00j\\x00i\\x00h\\x009\\x008\\x007\\x006\\x00\\x88\\x00\\x87\\x00\\x86\\x00\\x85\\xc0', b'\\xa7\\x00m\\x00:\\x00\\x89\\xc02\\xc0.\\xc0*\\xc0&\\xc0\\x0f\\xc0\\x05\\x00\\x9d\\x00=\\x00']\n",
      "Bad pipe message: %s [b\"\\x84\\xc0/\\xc0+\\xc0'\\xc0#\\xc0\\x13\\xc0\\t\\x00\\xa4\\x00\\xa2\\x00\\xa0\\x00\\x9e\\x00g\\x00@\\x00?\\x00>\\x003\\x002\\x001\\x000\\x00\\x9a\\x00\\x99\\x00\\x98\\x00\\x97\\x00E\\x00D\\x00C\\x00\"]\n",
      "Bad pipe message: %s [b'\\x18\\x00\\xa6\\x00l\\x004\\x00\\x9b\\x00F\\xc01\\xc0-\\xc0)\\xc0%\\xc0\\x0e\\xc0\\x04\\x00\\x9c\\x00<\\x00/\\x00\\x96\\x00A\\x00\\x07\\xc0\\x11\\xc0\\x07\\xc0\\x16\\x00\\x18\\xc0\\x0c\\xc0\\x02\\x00\\x05\\x00\\x04\\xc0\\x12\\xc0\\x08\\x00\\x16\\x00\\x13\\x00\\x10\\x00\\r\\xc0\\x17']\n"
     ]
    }
   ],
   "source": [
    "print(f\"{4_000_000*3_157_535+3_363_767}\")"
   ]
  }
 ],
 "metadata": {
  "kernelspec": {
   "display_name": "Python 3",
   "language": "python",
   "name": "python3"
  },
  "language_info": {
   "codemirror_mode": {
    "name": "ipython",
    "version": 3
   },
   "file_extension": ".py",
   "mimetype": "text/x-python",
   "name": "python",
   "nbconvert_exporter": "python",
   "pygments_lexer": "ipython3",
   "version": "3.10.4"
  },
  "orig_nbformat": 4,
  "vscode": {
   "interpreter": {
    "hash": "3ad933181bd8a04b432d3370b9dc3b0662ad032c4dfaa4e4f1596c548f763858"
   }
  }
 },
 "nbformat": 4,
 "nbformat_minor": 2
}
