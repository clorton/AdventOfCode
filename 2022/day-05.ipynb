{
 "cells": [
  {
   "cell_type": "code",
   "execution_count": 50,
   "metadata": {},
   "outputs": [],
   "source": [
    "from pathlib import Path\n",
    "INPUT_FILE = Path.cwd() / \"day-05.txt\"\n"
   ]
  },
  {
   "cell_type": "code",
   "execution_count": 51,
   "metadata": {},
   "outputs": [
    {
     "data": {
      "text/plain": [
       "['    [C]             [L]         [T]\\n',\n",
       " '    [V] [R] [M]     [T]         [B]\\n',\n",
       " '    [F] [G] [H] [Q] [Q]         [H]\\n',\n",
       " '    [W] [L] [P] [V] [M] [V]     [F]\\n',\n",
       " '    [P] [C] [W] [S] [Z] [B] [S] [P]\\n',\n",
       " '[G] [R] [M] [B] [F] [J] [S] [Z] [D]\\n',\n",
       " '[J] [L] [P] [F] [C] [H] [F] [J] [C]\\n',\n",
       " '[Z] [Q] [F] [L] [G] [W] [H] [F] [M]\\n',\n",
       " ' 1   2   3   4   5   6   7   8   9 \\n',\n",
       " '\\n',\n",
       " 'move 1 from 5 to 6\\n',\n",
       " 'move 5 from 6 to 7\\n',\n",
       " 'move 10 from 7 to 3\\n',\n",
       " 'move 4 from 8 to 4\\n',\n",
       " 'move 2 from 5 to 4\\n',\n",
       " 'move 4 from 3 to 6\\n']"
      ]
     },
     "execution_count": 51,
     "metadata": {},
     "output_type": "execute_result"
    }
   ],
   "source": [
    "with INPUT_FILE.open(\"r\") as file:\n",
    "    input = list(file.readlines())  # [line.strip() for line in file.readlines()]\n",
    "\n",
    "input[0:16]\n"
   ]
  },
  {
   "cell_type": "code",
   "execution_count": 52,
   "metadata": {},
   "outputs": [
    {
     "name": "stdout",
     "output_type": "stream",
     "text": [
      "['Z', 'J', 'G']\n",
      "['Q', 'L', 'R', 'P', 'W', 'F', 'V', 'C']\n",
      "['F', 'P', 'M', 'C', 'L', 'G', 'R']\n",
      "['L', 'F', 'B', 'W', 'P', 'H', 'M']\n",
      "['G', 'C', 'F', 'S', 'V', 'Q']\n",
      "['W', 'H', 'J', 'Z', 'M', 'Q', 'T', 'L']\n",
      "['H', 'F', 'S', 'B', 'V']\n",
      "['F', 'J', 'Z', 'S']\n",
      "['M', 'C', 'D', 'P', 'F', 'H', 'B', 'T']\n",
      "Part 1: WSFTMRHPP\n"
     ]
    }
   ],
   "source": [
    "stacks = [[] for _ in range(9)]\n",
    "\n",
    "for row in input[:8]:\n",
    "    for position in range(0, 9):\n",
    "        index = 1 + position * 4\n",
    "        if row[index] in \"ABCDEFGHIJKLMNOPQRSTUVWXYZ\":\n",
    "            stacks[position].insert(0, row[index])\n",
    "\n",
    "for stack in range(9):\n",
    "    print(stacks[stack])\n",
    "\n",
    "for command in input[10:]:\n",
    "    command = command.split(\" \")\n",
    "    count = int(command[1])\n",
    "    start = int(command[3]) - 1\n",
    "    finish = int(command[5]) - 1\n",
    "    for repeat in range(count):\n",
    "        crate = stacks[start].pop()\n",
    "        stacks[finish].append(crate)\n",
    "\n",
    "print(\"Part 1: \", end=\"\")\n",
    "for stack in range(9):\n",
    "    print(f\"{stacks[stack][-1]}\", end=\"\")\n",
    "print()\n"
   ]
  },
  {
   "cell_type": "code",
   "execution_count": 53,
   "metadata": {},
   "outputs": [
    {
     "name": "stdout",
     "output_type": "stream",
     "text": [
      "['Z', 'J', 'G']\n",
      "['Q', 'L', 'R', 'P', 'W', 'F', 'V', 'C']\n",
      "['F', 'P', 'M', 'C', 'L', 'G', 'R']\n",
      "['L', 'F', 'B', 'W', 'P', 'H', 'M']\n",
      "['G', 'C', 'F', 'S', 'V', 'Q']\n",
      "['W', 'H', 'J', 'Z', 'M', 'Q', 'T', 'L']\n",
      "['H', 'F', 'S', 'B', 'V']\n",
      "['F', 'J', 'Z', 'S']\n",
      "['M', 'C', 'D', 'P', 'F', 'H', 'B', 'T']\n",
      "Part 1: GSLCMFBRP\n"
     ]
    }
   ],
   "source": [
    "stacks = [[] for _ in range(9)]\n",
    "\n",
    "for row in input[:8]:\n",
    "    for position in range(0, 9):\n",
    "        index = 1 + position * 4\n",
    "        if row[index] in \"ABCDEFGHIJKLMNOPQRSTUVWXYZ\":\n",
    "            stacks[position].insert(0, row[index])\n",
    "\n",
    "for stack in range(9):\n",
    "    print(stacks[stack])\n",
    "\n",
    "for command in input[10:]:\n",
    "    command = command.split(\" \")\n",
    "    count = int(command[1])\n",
    "    start = int(command[3]) - 1\n",
    "    finish = int(command[5]) - 1\n",
    "    stacks[finish].extend(stacks[start][-count:])\n",
    "    stacks[start] = stacks[start][:-count]\n",
    "\n",
    "print(\"Part 1: \", end=\"\")\n",
    "for stack in range(9):\n",
    "    print(f\"{stacks[stack][-1]}\", end=\"\")\n",
    "print()\n"
   ]
  }
 ],
 "metadata": {
  "kernelspec": {
   "display_name": "Python 3.8.9 ('.venv': venv)",
   "language": "python",
   "name": "python3"
  },
  "language_info": {
   "codemirror_mode": {
    "name": "ipython",
    "version": 3
   },
   "file_extension": ".py",
   "mimetype": "text/x-python",
   "name": "python",
   "nbconvert_exporter": "python",
   "pygments_lexer": "ipython3",
   "version": "3.8.9"
  },
  "orig_nbformat": 4,
  "vscode": {
   "interpreter": {
    "hash": "4ef0dafbb4c785a213c30d260c9cfa9153acec0d3c352807f65148e1731ab18b"
   }
  }
 },
 "nbformat": 4,
 "nbformat_minor": 2
}
