{
 "cells": [
  {
   "cell_type": "code",
   "execution_count": 1,
   "metadata": {},
   "outputs": [
    {
     "data": {
      "text/plain": [
       "['012333020214114313144335140322135024300001316000003021661021402203334043530025242334031301420211203',\n",
       " '321322012210411202411222140105022243546162656353412656161345264013320002410502113123133103110310103',\n",
       " '310210132224000411310104525310511405443133224046520106440616614533122315022301300411313020011332300',\n",
       " '110323333230014215250313221045002512112261052025342454530231160413245115333251322342333412433120102',\n",
       " '302213324202412332155202503302524626556400052214212641324461031135305413423041244422510140230321312',\n",
       " '010023423144023401003025051434640066563416536123365135513001306660416551415320410020240213233202331',\n",
       " '311234404232454320341123503603531113200662245554021016446534016262314064255354540320005413431421200',\n",
       " '314232412000545115540043043634450421615432046054647252234164313310410323445011400003213041002002320',\n",
       " '034113340142203203004355430101052264163313247513511315375241515160326235063421225412234125320124000',\n",
       " '411034144310552520143455432031220546472513462754535442545363615142624461264533160145222552533422021',\n",
       " '334441412541044302251305013423023025774774257213114144621225452464726556360513503121223044013114041',\n",
       " '222330413534054310525113110011525167135617672735131771327411457416711230361431215424210521230040114',\n",
       " '332310444122421412232252156331125234756364256762776565347752661722446654121033012403204143030311014',\n",
       " '404312314334553146463200563045242534625122727433217756333536325156522565321522545324601224133023440',\n",
       " '421100002313521532412422321713763615561554772744784731336731615231123743374053611560362033001513023',\n",
       " '200102152032540226040030177732712415653745765876485273823837347572443127611750631502225530411342330']"
      ]
     },
     "execution_count": 1,
     "metadata": {},
     "output_type": "execute_result"
    }
   ],
   "source": [
    "from pathlib import Path\n",
    "INPUT_FILE = Path.cwd() / \"day-08.txt\"\n",
    "\n",
    "with INPUT_FILE.open(\"r\") as file:\n",
    "    input = [line.strip() for line in file.readlines()]\n",
    "\n",
    "input[0:16]\n"
   ]
  },
  {
   "cell_type": "code",
   "execution_count": 2,
   "metadata": {},
   "outputs": [],
   "source": [
    "import numpy as np"
   ]
  },
  {
   "cell_type": "code",
   "execution_count": 3,
   "metadata": {},
   "outputs": [
    {
     "data": {
      "text/plain": [
       "(99, 99)"
      ]
     },
     "execution_count": 3,
     "metadata": {},
     "output_type": "execute_result"
    }
   ],
   "source": [
    "forest = np.array(list(map(lambda s: list(s), input)), dtype=np.int8)\n",
    "forest.shape"
   ]
  },
  {
   "cell_type": "code",
   "execution_count": 4,
   "metadata": {},
   "outputs": [
    {
     "name": "stdout",
     "output_type": "stream",
     "text": [
      "Part 1: 1711 trees are visible.\n"
     ]
    }
   ],
   "source": [
    "visible = set()\n",
    "for x in range(forest.shape[1]):\n",
    "    previous = -1\n",
    "    for y in range(forest.shape[0]):\n",
    "        if forest[y, x] > previous:\n",
    "            visible.add((y, x))\n",
    "            previous = forest[y, x]\n",
    "            if previous == 9:\n",
    "                break\n",
    "    previous = -1\n",
    "    for y in range(forest.shape[0]-1,-1,-1):\n",
    "        if forest[y, x] > previous:\n",
    "            visible.add((y, x))\n",
    "            previous = forest[y, x]\n",
    "            if previous == 9:\n",
    "                break\n",
    "\n",
    "for y in range(forest.shape[0]):\n",
    "    previous = -1\n",
    "    for x in range(forest.shape[0]):\n",
    "        if forest[y, x] > previous:\n",
    "            visible.add((y, x))\n",
    "            previous = forest[y, x]\n",
    "            if previous == 9:\n",
    "                break\n",
    "    previous = -1\n",
    "    for x in range(forest.shape[0]-1,-1,-1):\n",
    "        if forest[y, x] > previous:\n",
    "            visible.add((y, x))\n",
    "            previous = forest[y, x]\n",
    "            if previous == 9:\n",
    "                break\n",
    "\n",
    "print(f\"Part 1: {len(visible)} trees are visible.\")"
   ]
  },
  {
   "cell_type": "code",
   "execution_count": 11,
   "metadata": {},
   "outputs": [],
   "source": [
    "def north(x, y, forest):\n",
    "\n",
    "    height = forest[y, x]\n",
    "    score = 0\n",
    "    for y_prime in range(y-1, -1, -1):\n",
    "        score += 1\n",
    "        if forest[y_prime, x] >= height:\n",
    "            break\n",
    "\n",
    "    return score\n",
    "\n",
    "def south(x, y, forest):\n",
    "\n",
    "    height = forest[y, x]\n",
    "    score = 0\n",
    "    for y_prime in range(y+1, forest.shape[0]):\n",
    "        score += 1\n",
    "        if forest[y_prime, x] >= height:\n",
    "            break\n",
    "\n",
    "    return score\n",
    "\n",
    "def east(x, y, forest):\n",
    "\n",
    "    height = forest[y, x]\n",
    "    score = 0\n",
    "    for x_prime in range(x+1, forest.shape[1]):\n",
    "        score += 1\n",
    "        if forest[y, x_prime] >= height:\n",
    "            break\n",
    "\n",
    "    return score\n",
    "\n",
    "def west(x, y, forest):\n",
    "\n",
    "    height = forest[y, x]\n",
    "    score = 0\n",
    "    for x_prime in range(x-1, -1, -1):\n",
    "        score += 1\n",
    "        if forest[y, x_prime] >= height:\n",
    "            break\n",
    "\n",
    "    return score\n"
   ]
  },
  {
   "cell_type": "code",
   "execution_count": 12,
   "metadata": {},
   "outputs": [
    {
     "name": "stdout",
     "output_type": "stream",
     "text": [
      "8\n",
      "11\n",
      "14\n",
      "6\n",
      "30\n"
     ]
    }
   ],
   "source": [
    "print(forest[31, 30])\n",
    "print(north(30, 31, forest))\n",
    "print(south(30, 31, forest))\n",
    "print(east(30, 31, forest))\n",
    "print(west(30, 31, forest))"
   ]
  },
  {
   "cell_type": "code",
   "execution_count": 13,
   "metadata": {},
   "outputs": [
    {
     "name": "stdout",
     "output_type": "stream",
     "text": [
      "Part 2: maximum score is 301392 @ (52, 14)\n"
     ]
    }
   ],
   "source": [
    "scores = set()\n",
    "for y in range(forest.shape[0]):\n",
    "    for x in range(forest.shape[1]):\n",
    "        score = north(x, y, forest)*south(x, y, forest)*east(x, y, forest)*west(x, y, forest)\n",
    "        if (len(scores) == 0) or (score > max(scores)):\n",
    "            save = (y, x)\n",
    "        scores.add(score)\n",
    "\n",
    "print(f\"Part 2: maximum score is {max(scores)} @ {save}\")\n"
   ]
  }
 ],
 "metadata": {
  "kernelspec": {
   "display_name": "Python 3.8.9 ('.venv': venv)",
   "language": "python",
   "name": "python3"
  },
  "language_info": {
   "codemirror_mode": {
    "name": "ipython",
    "version": 3
   },
   "file_extension": ".py",
   "mimetype": "text/x-python",
   "name": "python",
   "nbconvert_exporter": "python",
   "pygments_lexer": "ipython3",
   "version": "3.8.9"
  },
  "orig_nbformat": 4,
  "vscode": {
   "interpreter": {
    "hash": "4ef0dafbb4c785a213c30d260c9cfa9153acec0d3c352807f65148e1731ab18b"
   }
  }
 },
 "nbformat": 4,
 "nbformat_minor": 2
}
