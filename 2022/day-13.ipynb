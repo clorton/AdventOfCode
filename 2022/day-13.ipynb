{
 "cells": [
  {
   "cell_type": "code",
   "execution_count": 4,
   "metadata": {},
   "outputs": [
    {
     "data": {
      "text/plain": [
       "['[[[[]]],[[[1,2,7,3,10],10,8,4,10]],[1,3,[],6,0]]',\n",
       " '[[[[9,3,5],[5,9,1,2,9],8],[[],9]]]',\n",
       " '',\n",
       " '[[],[6,[],[[6,8,9],4]],[[[10,6,2],[10,8,4],8],3,[2,5,1,1],1,[]],[10,[[2],4,5,[3,6],10]],[5]]',\n",
       " '[[6,[[4],3],4,5],[],[[[0,5,2],9,5],[9,2,10],9],[[[10],5,2,[3,7,10,7,3]],3,[[],3,9,7,6],[[0,9,9],2,[10,0,2],[9,3,6,0,4]]],[3,7,[9,9,[],[10],[3]],[10,6,[5,8],[4],[3]]]]',\n",
       " '',\n",
       " '[[4],[6,9,[[2,8,3],[8,0,5,2]],3,[10]],[[6,3,9,9],[1,9]]]',\n",
       " '[[[]],[[10,[9,7,3],6,5]]]']"
      ]
     },
     "execution_count": 4,
     "metadata": {},
     "output_type": "execute_result"
    }
   ],
   "source": [
    "from pathlib import Path\n",
    "from pprint import pprint\n",
    "\n",
    "import numpy as np\n",
    "\n",
    "INPUT_FILE = Path.cwd() / \"day-13.txt\"\n",
    "\n",
    "with INPUT_FILE.open(\"r\") as file:\n",
    "    inputs = [line.strip() for line in file.readlines()]\n",
    "\n",
    "inputs[0:8]\n"
   ]
  },
  {
   "cell_type": "code",
   "execution_count": 9,
   "metadata": {},
   "outputs": [],
   "source": [
    "RIGHT_ORDER = True\n",
    "WRONG_ORDER = False\n",
    "CONTINUE = None\n",
    "\n",
    "def compare(left, right):\n",
    "    if isinstance(left, int) and isinstance(right, int):\n",
    "        return RIGHT_ORDER if left < right else WRONG_ORDER if left > right else CONTINUE\n",
    "    if isinstance(left, int):\n",
    "        left = [left]\n",
    "    if isinstance(right, int):\n",
    "        right = [right]\n",
    "    for a, b in zip(left, right):\n",
    "        retval = compare(a, b)\n",
    "        if retval != CONTINUE:\n",
    "            return retval\n",
    "\n",
    "    if len(left) < len(right):\n",
    "        return RIGHT_ORDER\n",
    "\n",
    "    if len(right) < len(left):\n",
    "        return WRONG_ORDER\n",
    "\n",
    "    return CONTINUE\n"
   ]
  },
  {
   "cell_type": "code",
   "execution_count": 12,
   "metadata": {},
   "outputs": [
    {
     "name": "stdout",
     "output_type": "stream",
     "text": [
      "Part 1: 6072\n"
     ]
    }
   ],
   "source": [
    "results = {RIGHT_ORDER: [], WRONG_ORDER: []}\n",
    "for index in range(0, len(inputs), 3):\n",
    "    left = eval(inputs[index])\n",
    "    right = eval(inputs[index+1])\n",
    "    retval = compare(left, right)\n",
    "    results[retval].append((index // 3) + 1)\n",
    "\n",
    "print(f\"Part 1: {sum(results[RIGHT_ORDER])}\")\n"
   ]
  },
  {
   "cell_type": "code",
   "execution_count": 16,
   "metadata": {},
   "outputs": [
    {
     "name": "stdout",
     "output_type": "stream",
     "text": [
      "index of [[2]] is 118\n",
      "index of [[6]] is 188\n",
      "Part 2: 22184\n"
     ]
    }
   ],
   "source": [
    "from functools import cmp_to_key\n",
    "\n",
    "packets = [[[2]], [[6]]]\n",
    "for index in range(0, len(inputs), 3):\n",
    "    packets.append(eval(inputs[index]))\n",
    "    packets.append(eval(inputs[index+1]))\n",
    "\n",
    "sorting = sorted(packets, key=cmp_to_key(lambda a, b: [1, -1][compare(a, b)]))\n",
    "sorting[:8]\n",
    "\n",
    "for i, packet in enumerate(sorting):\n",
    "    if packet == [[2]]:\n",
    "        i2 = i + 1\n",
    "        print(f\"index of [[2]] is {i2}\")\n",
    "    if packet == [[6]]:\n",
    "        i6 = i + 1\n",
    "        print(f\"index of [[6]] is {i6}\")\n",
    "\n",
    "print(f\"Part 2: {i2*i6}\")\n"
   ]
  }
 ],
 "metadata": {
  "kernelspec": {
   "display_name": "Python 3.8.9 ('.venv': venv)",
   "language": "python",
   "name": "python3"
  },
  "language_info": {
   "codemirror_mode": {
    "name": "ipython",
    "version": 3
   },
   "file_extension": ".py",
   "mimetype": "text/x-python",
   "name": "python",
   "nbconvert_exporter": "python",
   "pygments_lexer": "ipython3",
   "version": "3.8.9"
  },
  "orig_nbformat": 4,
  "vscode": {
   "interpreter": {
    "hash": "4ef0dafbb4c785a213c30d260c9cfa9153acec0d3c352807f65148e1731ab18b"
   }
  }
 },
 "nbformat": 4,
 "nbformat_minor": 2
}
