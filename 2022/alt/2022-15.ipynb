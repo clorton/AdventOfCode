{
 "cells": [
  {
   "cell_type": "code",
   "execution_count": 1,
   "metadata": {},
   "outputs": [
    {
     "name": "stdout",
     "output_type": "stream",
     "text": [
      "Sensor at x=3844106, y=3888618: closest beacon is at x=3225436, y=4052707\n",
      "Sensor at x=1380352, y=1857923: closest beacon is at x=10411, y=2000000\n",
      "Sensor at x=272, y=1998931: closest beacon is at x=10411, y=2000000\n",
      "Sensor at x=2119959, y=184595: closest beacon is at x=2039500, y=-250317\n",
      "Sensor at x=1675775, y=2817868: closest beacon is at x=2307516, y=3313037\n",
      "Sensor at x=2628344, y=2174105: closest beacon is at x=3166783, y=2549046\n",
      "Sensor at x=2919046, y=3736158: closest beacon is at x=3145593, y=4120490\n",
      "Sensor at x=16, y=2009884: closest beacon is at x=10411, y=2000000\n",
      "Sensor(x=3844106, y=3888618, r=782759)\n",
      "Sensor(x=1380352, y=1857923, r=1512018)\n",
      "Sensor(x=272, y=1998931, r=11208)\n",
      "Sensor(x=2119959, y=184595, r=515371)\n",
      "Sensor(x=1675775, y=2817868, r=1126910)\n",
      "Sensor(x=2628344, y=2174105, r=913380)\n",
      "Sensor(x=2919046, y=3736158, r=610879)\n",
      "Sensor(x=16, y=2009884, r=20279)\n"
     ]
    }
   ],
   "source": [
    "from pathlib import Path\n",
    "\n",
    "WORKDIR = Path.cwd().absolute()\n",
    "INPUTFILE = WORKDIR.parent / \"day-15.txt\"\n",
    "\n",
    "with INPUTFILE.open(\"r\") as file:\n",
    "    inputs = [line.strip() for line in file.readlines()]\n",
    "\n",
    "_inputs = [\n",
    "]\n",
    "\n",
    "for i in range(8):\n",
    "    print(inputs[i])\n",
    "\n",
    "from collections import namedtuple\n",
    "\n",
    "Sensor = namedtuple(\"Sensor\", [\"x\", \"y\", \"r\"])\n",
    "sensors = []\n",
    "\n",
    "for line in inputs:\n",
    "    parts = line.split(\" \")\n",
    "    sx = int(parts[2][2:-1])\n",
    "    sy = int(parts[3][2:-1])\n",
    "    bx = int(parts[8][2:-1])\n",
    "    by = int(parts[9][2:])\n",
    "    sensors.append(Sensor(sx, sy, abs(sx-bx)+abs(sy-by)))\n",
    "\n",
    "for i in range(8):\n",
    "    print(sensors[i])\n"
   ]
  },
  {
   "cell_type": "code",
   "execution_count": 8,
   "metadata": {},
   "outputs": [
    {
     "name": "stdout",
     "output_type": "stream",
     "text": [
      "(3157535,3363767)-(3157536,3363768) : 1×1 = 1\n"
     ]
    }
   ],
   "source": [
    "from typing import List\n",
    "\n",
    "def mdist(x1, y1, x2, y2):\n",
    "\n",
    "    return abs(x1-x2) + abs(y1-y2)\n",
    "\n",
    "class Rect:\n",
    "\n",
    "    def __init__(self, left:int, width:int, bottom:int, height:int) -> None:\n",
    "\n",
    "        self.left = left\n",
    "        self.right = left + width\n",
    "        self.bottom = bottom\n",
    "        self.top = bottom + height\n",
    "\n",
    "        return\n",
    "\n",
    "    @property\n",
    "    def width(self):\n",
    "\n",
    "        return self.right - self.left\n",
    "\n",
    "    @property\n",
    "    def height(self):\n",
    "\n",
    "        return self.top - self.bottom\n",
    "\n",
    "    @property\n",
    "    def area(self):\n",
    "\n",
    "        return self.width * self.height\n",
    "\n",
    "    def inrange(self, sensor:Sensor) -> bool:\n",
    "\n",
    "        return (mdist(self.left,    self.bottom, sensor.x, sensor.y) <= sensor.r) and \\\n",
    "               (mdist(self.right-1, self.bottom, sensor.x, sensor.y) <= sensor.r) and \\\n",
    "               (mdist(self.right-1, self.top-1,  sensor.x, sensor.y) <= sensor.r) and \\\n",
    "               (mdist(self.left,    self.top-1,  sensor.x, sensor.y) <= sensor.r)\n",
    "\n",
    "    def split(self):\n",
    "\n",
    "        mx = self.left   + (self.width  // 2)\n",
    "        my = self.bottom + (self.height // 2)\n",
    "\n",
    "        return [\n",
    "            Rect(self.left, mx-self.left,  self.bottom, my - self.bottom),  # lower left\n",
    "            Rect(self.left, mx-self.left,  my,          self.top - my),     # upper left\n",
    "            Rect(mx,        self.right-mx, my,          self.top - my),     # upper right\n",
    "            Rect(mx,        self.right-mx, self.bottom, my - self.bottom)   # lower right\n",
    "        ]\n",
    "\n",
    "    def __str__(self):\n",
    "\n",
    "        return f\"({self.left},{self.bottom})-({self.right},{self.top}) : {self.width}×{self.height} = {self.area}\"\n",
    "\n",
    "    def uncovered(self, sensors:List[Sensor]) -> List[\"Rect\"]:\n",
    "\n",
    "        # print(self)\n",
    "\n",
    "        if self.area == 0:\n",
    "            return []\n",
    "\n",
    "        if any(self.inrange(sensor) for sensor in sensors):\n",
    "            return []\n",
    "\n",
    "        if self.area == 1:\n",
    "            return [self]\n",
    "\n",
    "        results = []\n",
    "        for subrect in self.split():\n",
    "            results += subrect.uncovered(sensors)\n",
    "\n",
    "        return results\n",
    "\n",
    "for rect in Rect(0, 4_000_001, 0, 4_000_000).uncovered(sensors):\n",
    "    print(rect)\n"
   ]
  },
  {
   "cell_type": "code",
   "execution_count": 22,
   "metadata": {},
   "outputs": [
    {
     "name": "stdout",
     "output_type": "stream",
     "text": [
      "(10410,1999999)-(10411,2000000) : 1×1 = 1\n",
      "(10410,2000000)-(10411,2000001) : 1×1 = 1\n",
      "(10411,2000000)-(10412,2000001) : 1×1 = 1\n",
      "(10411,1999999)-(10412,2000000) : 1×1 = 1\n",
      "(10410,1999999)-(10410,1999999) : 0×0 = 0\n",
      "(10410,1999999)-(10410,2000000) : 0×1 = 0\n",
      "(10410,1999999)-(10411,2000000) : 1×1 = 1\n",
      "(10410,1999999)-(10411,1999999) : 1×0 = 0\n",
      "(0,0)-(2000000,2000000) : 2000000×2000000 = 4000000000000\n",
      "(0,2000000)-(2000000,4000001) : 2000000×2000001 = 4000002000000\n",
      "(2000000,2000000)-(4000001,4000001) : 2000001×2000001 = 4000004000001\n",
      "(2000000,0)-(4000001,2000000) : 2000001×2000000 = 4000002000000\n"
     ]
    }
   ],
   "source": [
    "r = Rect(10410,2,1999999,2)\n",
    "print(\"\\n\".join(map(str,r.split())))\n",
    "print(\"\\n\".join(map(str,Rect(10410,1,1999999,1).split())))\n",
    "print(\"\\n\".join(map(str,Rect(0,4000001,0,4000001).split())))"
   ]
  },
  {
   "cell_type": "code",
   "execution_count": null,
   "metadata": {},
   "outputs": [],
   "source": []
  }
 ],
 "metadata": {
  "kernelspec": {
   "display_name": "Python 3",
   "language": "python",
   "name": "python3"
  },
  "language_info": {
   "codemirror_mode": {
    "name": "ipython",
    "version": 3
   },
   "file_extension": ".py",
   "mimetype": "text/x-python",
   "name": "python",
   "nbconvert_exporter": "python",
   "pygments_lexer": "ipython3",
   "version": "3.10.4"
  },
  "orig_nbformat": 4,
  "vscode": {
   "interpreter": {
    "hash": "3ad933181bd8a04b432d3370b9dc3b0662ad032c4dfaa4e4f1596c548f763858"
   }
  }
 },
 "nbformat": 4,
 "nbformat_minor": 2
}
