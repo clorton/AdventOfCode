{
 "cells": [
  {
   "cell_type": "code",
   "execution_count": 2,
   "metadata": {},
   "outputs": [],
   "source": [
    "from collections import namedtuple\n",
    "from pathlib import Path\n",
    "from typing import List\n",
    "\n",
    "import numpy as np\n",
    "\n",
    "WORKDIR = Path.cwd().absolute()\n",
    "INPUTFILE = WORKDIR / \"2022-16.txt\"\n",
    "\n",
    "def get_inputs(filename:Path=INPUTFILE, example:bool=False) -> List[str]:\n",
    "\n",
    "    with INPUTFILE.open(\"r\") as file:\n",
    "        inputs = [line.strip() for line in file.readlines()]\n",
    "\n",
    "    if example:\n",
    "        test = [\n",
    "            \"Valve AA has flow rate=0; tunnels lead to valves DD, II, BB\",\n",
    "            \"Valve BB has flow rate=13; tunnels lead to valves CC, AA\",\n",
    "            \"Valve CC has flow rate=2; tunnels lead to valves DD, BB\",\n",
    "            \"Valve DD has flow rate=20; tunnels lead to valves CC, AA, EE\",\n",
    "            \"Valve EE has flow rate=3; tunnels lead to valves FF, DD\",\n",
    "            \"Valve FF has flow rate=0; tunnels lead to valves EE, GG\",\n",
    "            \"Valve GG has flow rate=0; tunnels lead to valves FF, HH\",\n",
    "            \"Valve HH has flow rate=22; tunnel leads to valve GG\",\n",
    "            \"Valve II has flow rate=0; tunnels lead to valves AA, JJ\",\n",
    "            \"Valve JJ has flow rate=21; tunnel leads to valve II\",\n",
    "        ]\n",
    "        inputs = test\n",
    "\n",
    "    for i in range(min(8, len(inputs))):\n",
    "        print(f\"{i}: {inputs[i]}\")\n",
    "\n",
    "    return inputs"
   ]
  },
  {
   "cell_type": "code",
   "execution_count": 3,
   "metadata": {},
   "outputs": [],
   "source": [
    "from typing import Dict\n",
    "Valve = namedtuple(\"Valve\", [\"rate\", \"neighbors\"])\n",
    "\n",
    "def get_valves(inputs:List[str]) -> Dict[str,Valve]:\n",
    "\n",
    "    valves = {}\n",
    "    for line in inputs:\n",
    "        line = line.split(\" \", maxsplit=9)\n",
    "        name = line[1]\n",
    "        rate = int(line[4].split(\"=\")[1][:-1])\n",
    "        neighbors = line[9].split(\", \")\n",
    "        valves[name] = Valve(rate, neighbors)\n",
    "\n",
    "    print(valves[\"AA\"])\n",
    "    print(valves[\"KP\"])\n",
    "\n",
    "    return valves\n"
   ]
  },
  {
   "cell_type": "code",
   "execution_count": 3,
   "metadata": {},
   "outputs": [],
   "source": [
    "# Route = namedtuple(\"Route\", [\"path\", \"open\", \"cost\", \"income\"])\n",
    "# best_route = Route(tuple([\"AA\"]), tuple(), 0, 0)\n",
    "# routes = set([best_route])\n",
    "# # frozen = set()\n",
    "# while len(routes) > 0:\n",
    "#     min_cost = min(map(lambda r:r.cost, routes))\n",
    "#     for route in list(filter(lambda r:r.cost == min_cost, routes)):\n",
    "#         valve = route.path[-1]\n",
    "#         # if there's any value to opening the valve, and it's not already open, and there's time...\n",
    "#         rate = valves[valve].rate\n",
    "#         if (rate > 0) and (valve not in route.open) and (30 - route.cost > 1):\n",
    "#             new_open = tuple(set(route.open)|set([valve]))\n",
    "#             new_cost = route.cost+1\n",
    "#             new_income = route.income + rate*(30-new_cost)\n",
    "#             routes.add(Route(route.path, new_open, new_cost, new_income))\n",
    "#         neighbors = [neighbor for neighbor in valves[valve].neighbors if neighbor not in route.path]\n",
    "#         if len(neighbors) > 0:\n",
    "#             for neighbor in neighbors:\n",
    "#                 routes.add(Route(tuple(list(route.path)+[neighbor]), route.open, route.cost+1, route.income))\n",
    "#         else:\n",
    "#             if route.income > best_route.income:\n",
    "#                 best_route = route\n",
    "#         routes.remove(route)\n",
    "\n",
    "# # max_income = max(map(lambda r:r.income, frozen))\n",
    "# # print(f\"{max_income=}\")\n",
    "# print(best_route)\n"
   ]
  },
  {
   "cell_type": "code",
   "execution_count": 4,
   "metadata": {},
   "outputs": [],
   "source": [
    "from typing import Tuple\n",
    "from collections import defaultdict\n",
    "\n",
    "def shortest_path(start: str, end: str, valves:Dict[str, Tuple[int, List[str]]]) -> List[str]:\n",
    "\n",
    "    shortest = []\n",
    "    paths = defaultdict(list)\n",
    "    paths[0] = [[start]]\n",
    "    length = 0\n",
    "    while len(shortest) == 0:\n",
    "        for path in paths[length]:\n",
    "            terminus = valves[path[-1]]\n",
    "            for neighbor in terminus.neighbors:\n",
    "                if neighbor not in path:\n",
    "                    appended = path + [neighbor]\n",
    "                    if neighbor == end:\n",
    "                        shortest = appended\n",
    "                        break\n",
    "                    paths[length+1].append(appended)\n",
    "            if len(shortest) == 0:\n",
    "                break\n",
    "        length += 1\n",
    "\n",
    "    return shortest\n",
    "\n",
    "# print(f\"{shortest_path('AA', 'PM', valves)=}\")\n",
    "# print(f\"{shortest_path('AA', 'CJ', valves)=}\")\n"
   ]
  },
  {
   "cell_type": "code",
   "execution_count": 5,
   "metadata": {},
   "outputs": [
    {
     "name": "stdout",
     "output_type": "stream",
     "text": [
      "0: Valve AA has flow rate=0; tunnels lead to valves PM, MU, BM, AW, CB\n",
      "1: Valve AG has flow rate=0; tunnels lead to valves IS, MW\n",
      "2: Valve AW has flow rate=0; tunnels lead to valves BS, AA\n",
      "3: Valve BM has flow rate=0; tunnels lead to valves MW, AA\n",
      "4: Valve BS has flow rate=0; tunnels lead to valves IS, AW\n",
      "5: Valve BU has flow rate=0; tunnels lead to valves OE, EV\n",
      "6: Valve BY has flow rate=0; tunnels lead to valves QD, ZF\n",
      "7: Valve CB has flow rate=0; tunnels lead to valves AA, FX\n",
      "Valve(rate=0, neighbors=['PM', 'MU', 'BM', 'AW', 'CB'])\n",
      "Valve(rate=25, neighbors=['YO'])\n",
      "unopened=['CN', 'EV', 'FB', 'FX', 'HB', 'IS', 'JO', 'KP', 'MW', 'OH', 'QD', 'RD', 'TB', 'ZF', 'ZP']\n",
      "CN..."
     ]
    },
    {
     "ename": "",
     "evalue": "",
     "output_type": "error",
     "traceback": [
      "\u001b[1;31mCanceled future for execute_request message before replies were done"
     ]
    },
    {
     "ename": "",
     "evalue": "",
     "output_type": "error",
     "traceback": [
      "\u001b[1;31mThe Kernel crashed while executing code in the the current cell or a previous cell. Please review the code in the cell(s) to identify a possible cause of the failure. Click <a href='https://aka.ms/vscodeJupyterKernelCrash'>here</a> for more info. View Jupyter <a href='command:jupyter.viewOutput'>log</a> for further details."
     ]
    }
   ],
   "source": [
    "from datetime import datetime\n",
    "\n",
    "inputs = get_inputs()\n",
    "valves = get_valves(inputs)\n",
    "\n",
    "unopened = [key for key in valves if valves[key].rate > 0]\n",
    "print(f\"{unopened=}\")\n",
    "tstart = datetime.now()\n",
    "# options = [shortest_path(\"AA\", valve, valves) for valve in unopened]\n",
    "options = []\n",
    "for valve in unopened:\n",
    "    print(f\"{valve}...\", end=\"\")\n",
    "    shortest = shortest_path(\"AA\", valve, valves)\n",
    "    print(f\"{shortest}\")\n",
    "    options.append(shortest)\n",
    "tfinish = datetime.now()\n",
    "print(f\"{tfinish-tstart} to calculate shortest paths\")\n",
    "# print(f\"{options=}\")\n",
    "\n",
    "for path in options:\n",
    "    print(f\"unopened valves in {path} = {len(set(path) & set(unopened))}\")"
   ]
  },
  {
   "cell_type": "code",
   "execution_count": 10,
   "metadata": {},
   "outputs": [
    {
     "name": "stdout",
     "output_type": "stream",
     "text": [
      "(729, {'MW', 'JO'}, 7)\n"
     ]
    }
   ],
   "source": [
    "from typing import Set\n",
    "from itertools import combinations\n",
    "\n",
    "def value_of(path: List[str], time: int, unopened: Set[str], valves:Dict[str, Tuple[int, List[str]]]) -> int:\n",
    "\n",
    "    assert (terminus := path[-1]) in unopened\n",
    "\n",
    "    intermediates:Set = set(path) & unopened\n",
    "    intermediates.remove(terminus)\n",
    "\n",
    "    best_value = 0\n",
    "    valves_on = set()\n",
    "    for count in range(len(intermediates)+1):\n",
    "        for on in combinations(intermediates, count):\n",
    "            on = set(on)\n",
    "            on.add(terminus)\n",
    "            elapsed = 0\n",
    "            value = 0\n",
    "            for valve in path:\n",
    "                if valve in on:\n",
    "                    elapsed += 1\n",
    "                    value += valves[valve].rate * (time - elapsed)\n",
    "                elapsed += 1\n",
    "            if value > best_value:\n",
    "                best_value = value\n",
    "                valves_on = set(on)\n",
    "\n",
    "    return best_value, valves_on, elapsed\n",
    "\n",
    "print(f\"{value_of(['AA', 'BM', 'MW', 'NL', 'JO'], 30, set(unopened), valves)}\")\n"
   ]
  },
  {
   "cell_type": "code",
   "execution_count": 11,
   "metadata": {},
   "outputs": [
    {
     "name": "stdout",
     "output_type": "stream",
     "text": [
      "best_path=['AA', 'BM', 'MW', 'NL', 'JO', 'SX', 'EV', 'BU', 'OE', 'FB', 'OE', 'BU', 'EV', 'IU', 'CN', 'HC', 'HB']\n",
      "best_value=1840\n",
      "remaining=6\n"
     ]
    }
   ],
   "source": [
    "unopened = set([key for key in valves if valves[key].rate > 0])\n",
    "best_path = [\"AA\"]\n",
    "best_value = 0\n",
    "remaining = 30\n",
    "\n",
    "while remaining > 0:\n",
    "\n",
    "    next_path = []\n",
    "    next_value = 0\n",
    "    next_on = set()\n",
    "    next_elapsed = 0\n",
    "\n",
    "    for option in [shortest_path(best_path[-1], valve, valves) for valve in unopened]:\n",
    "        value, on, elapsed = value_of(option, remaining, unopened, valves)\n",
    "        if (value > next_value) and (elapsed <= remaining):\n",
    "            next_path = option\n",
    "            next_value = value\n",
    "            next_on = on\n",
    "            next_elapsed = elapsed\n",
    "\n",
    "    best_path += next_path[1:]\n",
    "    best_value += next_value\n",
    "    unopened -= next_on\n",
    "    remaining -= next_elapsed\n",
    "\n",
    "    if next_elapsed == 0:   # didn't find any valid candidates\n",
    "        break\n",
    "\n",
    "    if len(unopened) == 0:  # opened all available useful valves\n",
    "        break\n",
    "\n",
    "print(f\"{best_path=}\")\n",
    "print(f\"{best_value=}\") # 1840 is too low\n",
    "print(f\"{remaining=}\")"
   ]
  }
 ],
 "metadata": {
  "kernelspec": {
   "display_name": "Python 3",
   "language": "python",
   "name": "python3"
  },
  "language_info": {
   "codemirror_mode": {
    "name": "ipython",
    "version": 3
   },
   "file_extension": ".py",
   "mimetype": "text/x-python",
   "name": "python",
   "nbconvert_exporter": "python",
   "pygments_lexer": "ipython3",
   "version": "3.10.4 (main, Nov 29 2022, 20:00:25) [GCC 9.4.0]"
  },
  "orig_nbformat": 4,
  "vscode": {
   "interpreter": {
    "hash": "3ad933181bd8a04b432d3370b9dc3b0662ad032c4dfaa4e4f1596c548f763858"
   }
  }
 },
 "nbformat": 4,
 "nbformat_minor": 2
}
