{
 "cells": [
  {
   "cell_type": "code",
   "execution_count": 22,
   "metadata": {},
   "outputs": [],
   "source": [
    "from pathlib import Path\n",
    "INPUT_FILE = Path.cwd() / \"day-06.txt\"\n"
   ]
  },
  {
   "cell_type": "code",
   "execution_count": 23,
   "metadata": {},
   "outputs": [
    {
     "data": {
      "text/plain": [
       "'sgrrrrwcrrlqqgpp'"
      ]
     },
     "execution_count": 23,
     "metadata": {},
     "output_type": "execute_result"
    }
   ],
   "source": [
    "with INPUT_FILE.open(\"r\") as file:\n",
    "    input = [line.strip() for line in file.readlines()]\n",
    "\n",
    "input = input[0]\n",
    "input[0:16]\n"
   ]
  },
  {
   "cell_type": "code",
   "execution_count": 24,
   "metadata": {},
   "outputs": [],
   "source": [
    "import numpy as np\n",
    "\n",
    "LITTLE_A = ord(\"a\")\n",
    "\n",
    "def find_first_unique(input:str, length:int, part:int) -> None:\n",
    "\n",
    "    counts = np.zeros(26, dtype=np.uint8)\n",
    "    for init in range(length):\n",
    "        counts[ord(input[init])-LITTLE_A] += 1\n",
    "\n",
    "    position = None\n",
    "\n",
    "    for rest in range(length, len(input)):\n",
    "        if (counts != 0).sum() == length:\n",
    "            print(f\"Part {part}: found start-of-packet at position {rest}\")\n",
    "            break\n",
    "        counts[ord(input[rest-length])-LITTLE_A] -= 1\n",
    "        counts[ord(input[rest       ])-LITTLE_A] += 1\n",
    "\n",
    "    return\n"
   ]
  },
  {
   "cell_type": "code",
   "execution_count": 25,
   "metadata": {},
   "outputs": [
    {
     "name": "stdout",
     "output_type": "stream",
     "text": [
      "Part 1: found start-of-packet at position 1855\n"
     ]
    }
   ],
   "source": [
    "find_first_unique(input, 4, 1)\n"
   ]
  },
  {
   "cell_type": "code",
   "execution_count": 26,
   "metadata": {},
   "outputs": [
    {
     "name": "stdout",
     "output_type": "stream",
     "text": [
      "Part 2: found start-of-packet at position 3256\n"
     ]
    }
   ],
   "source": [
    "find_first_unique(input, 14, 2)\n"
   ]
  }
 ],
 "metadata": {
  "kernelspec": {
   "display_name": "Python 3.8.9 ('.venv': venv)",
   "language": "python",
   "name": "python3"
  },
  "language_info": {
   "codemirror_mode": {
    "name": "ipython",
    "version": 3
   },
   "file_extension": ".py",
   "mimetype": "text/x-python",
   "name": "python",
   "nbconvert_exporter": "python",
   "pygments_lexer": "ipython3",
   "version": "3.8.9"
  },
  "orig_nbformat": 4,
  "vscode": {
   "interpreter": {
    "hash": "4ef0dafbb4c785a213c30d260c9cfa9153acec0d3c352807f65148e1731ab18b"
   }
  }
 },
 "nbformat": 4,
 "nbformat_minor": 2
}
