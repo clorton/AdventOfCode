{
 "cells": [
  {
   "cell_type": "code",
   "execution_count": 1,
   "metadata": {},
   "outputs": [],
   "source": [
    "from pathlib import Path\n",
    "INPUT_FILE = Path.cwd() / \"day-07.txt\"\n"
   ]
  },
  {
   "cell_type": "code",
   "execution_count": 2,
   "metadata": {},
   "outputs": [
    {
     "data": {
      "text/plain": [
       "['$ cd /',\n",
       " '$ ls',\n",
       " '53302 chvtw.czb',\n",
       " '240038 dwhl.nrn',\n",
       " '124868 dwhl.vvb',\n",
       " 'dir fml',\n",
       " 'dir jbgpgvj',\n",
       " 'dir qjphltd',\n",
       " 'dir wlfprc',\n",
       " 'dir zqvh',\n",
       " 'dir zzmgz',\n",
       " '$ cd fml',\n",
       " '$ ls',\n",
       " 'dir bztjtqg',\n",
       " '176916 crgzcmrt.jlr',\n",
       " '199024 gpnmqlr.rdb']"
      ]
     },
     "execution_count": 2,
     "metadata": {},
     "output_type": "execute_result"
    }
   ],
   "source": [
    "with INPUT_FILE.open(\"r\") as file:\n",
    "    input = [line.strip() for line in file.readlines()]\n",
    "\n",
    "input[0:16]"
   ]
  },
  {
   "cell_type": "markdown",
   "metadata": {},
   "source": [
    "```text\n",
    "Find all of the directories with a total size of at most 100000. What is the sum of the total sizes of those directories?\n",
    "```"
   ]
  },
  {
   "cell_type": "code",
   "execution_count": 3,
   "metadata": {},
   "outputs": [],
   "source": [
    "class File:\n",
    "    def __init__(self, name:str, size:int):\n",
    "        self._name = name\n",
    "        self._size = size\n",
    "        return\n",
    "\n",
    "    @property\n",
    "    def name(self) -> str:\n",
    "        return self._name\n",
    "\n",
    "    @property\n",
    "    def size(self) -> int:\n",
    "        return self._size\n"
   ]
  },
  {
   "cell_type": "code",
   "execution_count": 19,
   "metadata": {},
   "outputs": [],
   "source": [
    "from functools import reduce\n",
    "from typing import Union\n",
    "\n",
    "class Directory:\n",
    "    def __init__(self, name:str, parent:\"Directory\"):\n",
    "        self._name = name\n",
    "        self._parent = parent\n",
    "        self._contents = []\n",
    "        return\n",
    "\n",
    "    def add_entry(self, entry:Union[File, \"Directory\"]) -> None:\n",
    "        self._contents.append(entry)\n",
    "        return\n",
    "\n",
    "    @property\n",
    "    def name(self) -> str:\n",
    "        return self._name\n",
    "\n",
    "    @property\n",
    "    def parent(self) -> \"Directory\":\n",
    "        return self._parent\n",
    "\n",
    "    @property\n",
    "    def size(self) -> int:\n",
    "        return reduce(lambda x, y: x + y.size, self._contents, 0)\n",
    "\n",
    "    @property\n",
    "    def path(self) -> str:\n",
    "        return f\"{self.parent.path}/{self.name}\" if self.parent is not None else self.name\n"
   ]
  },
  {
   "cell_type": "code",
   "execution_count": 20,
   "metadata": {},
   "outputs": [
    {
     "name": "stdout",
     "output_type": "stream",
     "text": [
      "4096\n",
      "12288\n",
      "13312\n"
     ]
    }
   ],
   "source": [
    "f = File(\"foo\", 4096)\n",
    "print(f.size)\n",
    "d = Directory(\"src\", Directory(\"/\", None))\n",
    "d.add_entry(f)\n",
    "d.add_entry(File(\"bar\", 8192))\n",
    "print(d.size)\n",
    "e = Directory(\"baz\", d)\n",
    "e.add_entry(File(\"boo\", 1024))\n",
    "e.add_entry(d)\n",
    "print(e.size)"
   ]
  },
  {
   "cell_type": "code",
   "execution_count": 21,
   "metadata": {},
   "outputs": [],
   "source": [
    "root:Directory = Directory(\"/\", None)\n",
    "curdir:Directory = None\n",
    "for output in input:\n",
    "    if output.startswith(\"$\"):\n",
    "        tokens = output.split(\" \", 2)\n",
    "        command = tokens[1]\n",
    "        target = tokens[2] if len(tokens) > 2 else None\n",
    "        if command == \"cd\":\n",
    "            if target == \"..\":\n",
    "                curdir = curdir.parent\n",
    "            elif target == \"/\":\n",
    "                curdir = root\n",
    "            else:\n",
    "                curdir = list(filter(lambda p: p.name == target, curdir._contents))[0]\n",
    "        elif command == \"ls\":\n",
    "            pass    # ignore this, we will process the output by default below\n",
    "        else:\n",
    "            raise RuntimeError(f\"Unknown command, '{command}'\")\n",
    "    else:\n",
    "        size, name = output.split(\" \")\n",
    "        if size == \"dir\":\n",
    "            curdir.add_entry(Directory(name, curdir))\n",
    "        else:   # file entry\n",
    "            curdir.add_entry(File(name, int(size)))\n"
   ]
  },
  {
   "cell_type": "code",
   "execution_count": 22,
   "metadata": {},
   "outputs": [],
   "source": [
    "from typing import Dict\n",
    "\n",
    "def get_sizes(curdir:Directory) -> Dict:\n",
    "\n",
    "    catalog = {curdir.path: curdir.size}\n",
    "\n",
    "    for obj in curdir._contents:\n",
    "        if isinstance(obj, Directory):\n",
    "            catalog.update(get_sizes(obj))\n",
    "\n",
    "    return catalog\n"
   ]
  },
  {
   "cell_type": "code",
   "execution_count": 23,
   "metadata": {},
   "outputs": [
    {
     "name": "stdout",
     "output_type": "stream",
     "text": [
      "Part 1: total size of directories <= 100,000 bytes is 1447046\n"
     ]
    }
   ],
   "source": [
    "catalog = get_sizes(root)\n",
    "\n",
    "total = 0\n",
    "for path, size in catalog.items():\n",
    "    if size <= 100_000:\n",
    "        total += size\n",
    "\n",
    "print(f\"Part 1: total size of directories <= 100,000 bytes is {total}\")"
   ]
  },
  {
   "cell_type": "code",
   "execution_count": 24,
   "metadata": {},
   "outputs": [
    {
     "name": "stdout",
     "output_type": "stream",
     "text": [
      "disk size    = 70000000\n",
      "used space   = 40572957\n",
      "unused space = 29427043\n",
      "needed space = 572957\n"
     ]
    }
   ],
   "source": [
    "disk_size = 70_000_000\n",
    "used_space = root.size\n",
    "unused_space = disk_size - used_space\n",
    "needed_space = 30_000_000 - unused_space\n",
    "\n",
    "print(f\"disk size    = {disk_size}\")\n",
    "print(f\"used space   = {used_space}\")\n",
    "print(f\"unused space = {unused_space}\")\n",
    "print(f\"needed space = {needed_space}\")"
   ]
  },
  {
   "cell_type": "code",
   "execution_count": 26,
   "metadata": {},
   "outputs": [
    {
     "name": "stdout",
     "output_type": "stream",
     "text": [
      "Part 2: best candidate is '//qjphltd/mgnl/vfrbjgdm/chvtw/bfwl/wlfprc/hsbg' at 578710 bytes.\n"
     ]
    }
   ],
   "source": [
    "cname = root.path\n",
    "csize = root.size\n",
    "for path, size in catalog.items():\n",
    "    if (size >= needed_space) and (size < csize):\n",
    "        cname = path\n",
    "        csize = size\n",
    "\n",
    "print(f\"Part 2: best candidate is '{cname}' at {csize} bytes.\")\n"
   ]
  }
 ],
 "metadata": {
  "kernelspec": {
   "display_name": "Python 3.8.9 ('.venv': venv)",
   "language": "python",
   "name": "python3"
  },
  "language_info": {
   "codemirror_mode": {
    "name": "ipython",
    "version": 3
   },
   "file_extension": ".py",
   "mimetype": "text/x-python",
   "name": "python",
   "nbconvert_exporter": "python",
   "pygments_lexer": "ipython3",
   "version": "3.8.9"
  },
  "orig_nbformat": 4,
  "vscode": {
   "interpreter": {
    "hash": "4ef0dafbb4c785a213c30d260c9cfa9153acec0d3c352807f65148e1731ab18b"
   }
  }
 },
 "nbformat": 4,
 "nbformat_minor": 2
}
