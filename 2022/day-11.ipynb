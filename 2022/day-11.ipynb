{
 "cells": [
  {
   "cell_type": "code",
   "execution_count": 10,
   "metadata": {},
   "outputs": [
    {
     "data": {
      "text/plain": [
       "['Monkey 0:',\n",
       " 'Starting items: 66, 79',\n",
       " 'Operation: new = old * 11',\n",
       " 'Test: divisible by 7',\n",
       " 'If true: throw to monkey 6',\n",
       " 'If false: throw to monkey 7',\n",
       " '',\n",
       " 'Monkey 1:']"
      ]
     },
     "execution_count": 10,
     "metadata": {},
     "output_type": "execute_result"
    }
   ],
   "source": [
    "from pathlib import Path\n",
    "\n",
    "import numpy as np\n",
    "\n",
    "INPUT_FILE = Path.cwd() / \"day-11.txt\"\n",
    "\n",
    "with INPUT_FILE.open(\"r\") as file:\n",
    "    input = [line.strip() for line in file.readlines()]\n",
    "\n",
    "input[0:8]\n"
   ]
  },
  {
   "cell_type": "code",
   "execution_count": 22,
   "metadata": {},
   "outputs": [
    {
     "name": "stdout",
     "output_type": "stream",
     "text": [
      "Monkey(items=[76, 58, 57, 55, 67, 77, 54, 99], operation=<function <lambda> at 0x10c8bdb80>, divisor=3, recipients=(1, 2), inspections=0)\n"
     ]
    }
   ],
   "source": [
    "from collections import namedtuple\n",
    "from pprint import pprint\n",
    "\n",
    "Monkey = namedtuple(\"Monkey\", [\"items\", \"operation\", \"divisor\", \"recipients\", \"inspections\"])\n",
    "\n",
    "monkeys = []\n",
    "\n",
    "for monkey in range(8):\n",
    "    # _ = input[monkey*7]\n",
    "    items = list(map(int, input[monkey*7+1].split(\":\")[-1].strip().split(\", \")))\n",
    "    exec(\"operation = lambda old: \" + input[monkey*7+2].split(\" = \")[-1])\n",
    "    divisor = int(input[monkey*7+3].split(\" by \")[1])\n",
    "    iftrue = int(input[monkey*7+4].split(\" \")[-1])\n",
    "    iffalse = int(input[monkey*7+5].split(\" \")[-1])\n",
    "    monkeys.append(Monkey(items, operation, divisor, (iffalse, iftrue), 0))\n",
    "\n",
    "pprint(monkeys[7])\n"
   ]
  },
  {
   "cell_type": "code",
   "execution_count": 19,
   "metadata": {},
   "outputs": [
    {
     "name": "stdout",
     "output_type": "stream",
     "text": [
      "Operation: new = old * 11\n",
      "['Operation: new', 'old * 11']\n",
      "old * 11\n",
      "lambda old: old * 11\n"
     ]
    },
    {
     "data": {
      "text/plain": [
       "11"
      ]
     },
     "execution_count": 19,
     "metadata": {},
     "output_type": "execute_result"
    }
   ],
   "source": [
    "print(input[2])\n",
    "print(input[2].split(\" = \"))\n",
    "print(input[2].split(\" = \")[-1])\n",
    "print(\"lambda old: \" + input[2].split(\" = \")[-1])\n",
    "_ = exec(\"operation = lambda old: \" + input[2].split(\" = \")[-1])\n",
    "operation(31)\n",
    "\n",
    "monkeys[7].operation(5)\n"
   ]
  },
  {
   "cell_type": "code",
   "execution_count": 20,
   "metadata": {},
   "outputs": [],
   "source": [
    "from functools import reduce\n",
    "\n",
    "for round in range(20):\n",
    "    for i, monkey in enumerate(monkeys):\n",
    "        inspections = 0\n",
    "        while len(monkey.items) > 0:\n",
    "            inspections += 1\n",
    "            item = monkey.items.pop(0)\n",
    "            worry = monkey.operation(item) // 3\n",
    "            recipient = monkey.recipients[worry % monkey.divisor == 0]\n",
    "            monkeys[recipient].items.append(worry)\n",
    "        if inspections > 0:\n",
    "            monkeys[i] = Monkey(monkey.items, monkey.operation, monkey.divisor, monkey.recipients, monkey.inspections + inspections)\n"
   ]
  },
  {
   "cell_type": "code",
   "execution_count": 21,
   "metadata": {},
   "outputs": [
    {
     "name": "stdout",
     "output_type": "stream",
     "text": [
      "214\n",
      "128\n",
      "136\n",
      "108\n",
      "227\n",
      "160\n",
      "100\n",
      "225\n",
      "Part 1: monkey business = 51075\n"
     ]
    }
   ],
   "source": [
    "for monkey in monkeys:\n",
    "    print(monkey.inspections)\n",
    "\n",
    "inspections = [monkey.inspections for monkey in monkeys]\n",
    "monkey_business = reduce(lambda x, y: x * y, sorted(inspections)[-2:], 1)\n",
    "\n",
    "print(f\"Part 1: monkey business = {monkey_business}\")"
   ]
  },
  {
   "cell_type": "code",
   "execution_count": 23,
   "metadata": {},
   "outputs": [],
   "source": [
    "# ***** Run cell two to re-initialize monkeys before running this cell! *****\n",
    "\n",
    "LIMIT = 2*3*5*7*11*13*17*19\n",
    "\n",
    "for round in range(10000):\n",
    "    for i, monkey in enumerate(monkeys):\n",
    "        inspections = 0\n",
    "        while len(monkey.items) > 0:\n",
    "            inspections += 1\n",
    "            item = monkey.items.pop(0)\n",
    "            worry = monkey.operation(item)\n",
    "            recipient = monkey.recipients[worry % monkey.divisor == 0]\n",
    "            monkeys[recipient].items.append(worry % LIMIT)\n",
    "        if inspections > 0:\n",
    "            monkeys[i] = Monkey(monkey.items, monkey.operation, monkey.divisor, monkey.recipients, monkey.inspections + inspections)\n"
   ]
  },
  {
   "cell_type": "code",
   "execution_count": 24,
   "metadata": {},
   "outputs": [
    {
     "name": "stdout",
     "output_type": "stream",
     "text": [
      "[89011, 67888, 107078, 81298, 108359, 81321, 32004, 108357]\n",
      "Part 2: monkey business = 11741456163\n"
     ]
    }
   ],
   "source": [
    "inspections = [monkey.inspections for monkey in monkeys]\n",
    "pprint(inspections)\n",
    "monkey_business = reduce(lambda x, y: x * y, sorted(inspections)[-2:], 1)\n",
    "\n",
    "print(f\"Part 2: monkey business = {monkey_business}\")\n"
   ]
  }
 ],
 "metadata": {
  "kernelspec": {
   "display_name": "Python 3.8.9 ('.venv': venv)",
   "language": "python",
   "name": "python3"
  },
  "language_info": {
   "codemirror_mode": {
    "name": "ipython",
    "version": 3
   },
   "file_extension": ".py",
   "mimetype": "text/x-python",
   "name": "python",
   "nbconvert_exporter": "python",
   "pygments_lexer": "ipython3",
   "version": "3.8.9"
  },
  "orig_nbformat": 4,
  "vscode": {
   "interpreter": {
    "hash": "4ef0dafbb4c785a213c30d260c9cfa9153acec0d3c352807f65148e1731ab18b"
   }
  }
 },
 "nbformat": 4,
 "nbformat_minor": 2
}
