{
 "cells": [
  {
   "cell_type": "code",
   "execution_count": 32,
   "metadata": {},
   "outputs": [
    {
     "data": {
      "text/plain": [
       "['R 2', 'D 2', 'R 2', 'U 1', 'R 2', 'L 2', 'D 1', 'L 1']"
      ]
     },
     "execution_count": 32,
     "metadata": {},
     "output_type": "execute_result"
    }
   ],
   "source": [
    "from pathlib import Path\n",
    "INPUT_FILE = Path.cwd() / \"day-09.txt\"\n",
    "\n",
    "with INPUT_FILE.open(\"r\") as file:\n",
    "    input = [line.strip() for line in file.readlines()]\n",
    "\n",
    "input[0:8]\n"
   ]
  },
  {
   "cell_type": "code",
   "execution_count": 33,
   "metadata": {},
   "outputs": [],
   "source": [
    "import numpy as np\n",
    "\n",
    "deltas = {\n",
    "    \"R\": np.array([1, 0], dtype=np.int32),\n",
    "    \"L\": np.array([-1, 0], dtype=np.int32),\n",
    "    \"U\": np.array([0, 1], dtype=np.int32),\n",
    "    \"D\": np.array([0, -1], dtype=np.int32)\n",
    "}\n"
   ]
  },
  {
   "cell_type": "code",
   "execution_count": 35,
   "metadata": {},
   "outputs": [
    {
     "name": "stdout",
     "output_type": "stream",
     "text": [
      "Part 1: total visitations = 6026\n"
     ]
    }
   ],
   "source": [
    "from collections import defaultdict\n",
    "\n",
    "H = np.array([0, 0], dtype=np.int32)\n",
    "T = np.array([0, 0], dtype=np.int32)\n",
    "\n",
    "visited = defaultdict(int)\n",
    "\n",
    "test = False\n",
    "if test:\n",
    "    input = [\n",
    "        \"R 4\",\n",
    "        \"U 4\",\n",
    "        \"L 3\",\n",
    "        \"D 1\",\n",
    "        \"R 4\",\n",
    "        \"D 1\",\n",
    "        \"L 5\",\n",
    "        \"R 2\"\n",
    "    ]\n",
    "\n",
    "for row in input:\n",
    "\n",
    "    direction, count = row.split(\" \")\n",
    "    count = int(count)\n",
    "\n",
    "    delta = deltas[direction]\n",
    "    for step in range(count):\n",
    "        H += delta\n",
    "        if np.abs(H-T).max() >= 2:\n",
    "            move = (H-T) / 2.0\n",
    "            move[move>0] = np.ceil(move[move>0])\n",
    "            move[move<0] = np.floor(move[move<0])\n",
    "            T += move.astype(np.int32)\n",
    "            visited[(T[0], T[1])] += 1\n",
    "\n",
    "total = 0\n",
    "for key, value in visited.items():\n",
    "    total += 1\n",
    "\n",
    "print(f\"Part 1: total visitations = {total}\")\n"
   ]
  },
  {
   "cell_type": "code",
   "execution_count": 36,
   "metadata": {},
   "outputs": [
    {
     "name": "stdout",
     "output_type": "stream",
     "text": [
      "Part 2: total visits = 2273\n"
     ]
    }
   ],
   "source": [
    "knots = np.zeros((10, 2), dtype=np.int32)\n",
    "visited = set()\n",
    "\n",
    "for row in input:\n",
    "\n",
    "    direction, count = row.split(\" \")\n",
    "    count = int(count)\n",
    "    delta = deltas[direction]\n",
    "    for step in range(count):\n",
    "        knots[0,:] += delta\n",
    "        for k in range(1,10):\n",
    "            if np.abs(knots[k-1,:]-knots[k,:]).max() >= 2:\n",
    "                move = (knots[k-1,:]-knots[k,:]) / 2.0\n",
    "                move[move>0] = np.ceil(move[move>0])\n",
    "                move[move<0] = np.floor(move[move<0])\n",
    "                knots[k,:] += move.astype(np.int32)\n",
    "        visited.add((knots[-1,0], knots[-1,1]))\n",
    "\n",
    "print(f\"Part 2: total visits = {len(visited)}\")\n"
   ]
  }
 ],
 "metadata": {
  "kernelspec": {
   "display_name": "Python 3.8.9 ('.venv': venv)",
   "language": "python",
   "name": "python3"
  },
  "language_info": {
   "codemirror_mode": {
    "name": "ipython",
    "version": 3
   },
   "file_extension": ".py",
   "mimetype": "text/x-python",
   "name": "python",
   "nbconvert_exporter": "python",
   "pygments_lexer": "ipython3",
   "version": "3.8.9"
  },
  "orig_nbformat": 4,
  "vscode": {
   "interpreter": {
    "hash": "4ef0dafbb4c785a213c30d260c9cfa9153acec0d3c352807f65148e1731ab18b"
   }
  }
 },
 "nbformat": 4,
 "nbformat_minor": 2
}
