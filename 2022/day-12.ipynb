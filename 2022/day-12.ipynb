{
 "cells": [
  {
   "cell_type": "code",
   "execution_count": 1,
   "metadata": {},
   "outputs": [
    {
     "data": {
      "text/plain": [
       "['abaaacccccccccaaaaaaccccccccccccccccaacccccccccccaacaaaaaaaaaaaaaaaaaccaaaaacccaaaaccccccccccccccccccccccccccccccccccccccccccccccccccccccccaaaaa',\n",
       " 'abaaacccccccccaaaaaacccccccccccccccaaaaccccccccccaaaaaaaacaaaaaaaaaaaccaaaaaaccaaaacccccccccccccccccccccccccccccccccccccccccccccccccccccccaaaaaa',\n",
       " 'abaaaccccccccccaaaaacccccccccccccccaaaacccccccccccaaaaacccaaaaaaaaaacccaaaaaacccaaccccccccccccccaaaaacccccccccccccccccccccccccccccccccccccaaaaaa',\n",
       " 'abccccaaccccccaaaaacccccccccaaaaaccaaaaccccccccccccaaaaacaaaaaaaaacccccaaaaaccccccccccccccccccccaaaaacccccccccccccccccaaaccccaaaccccccccccaaacaa',\n",
       " 'abcccaaaacccccaaaaacccccccccaaaaacccccccccccccccccaaacaaaaaaaaaacccccccaaaaacccccccccccccccccccaaaaaacccccccccccccccccaaaaccaaaaccccccccccccccaa',\n",
       " 'abcccaaaaacacccccccccccccccaaaaaaccccccccccccccccccaaccaaaaacaaaaccccccccccccccccccccccccccccccaaaaaaccccccccccccccccccaaaaaaaacccccccccccccccaa',\n",
       " 'abaaaaaaaaaacccccccccccccccaaaaaaccccccccccccccccccccccaaaacccaaaccccccccccccccccccccccccccccccaaaaaacccccccccccccccciiiiijaaaaccccccccccccccccc',\n",
       " 'abaaaaaaaaaacccccccccccccccaaaaaacccccccccccccccccccccccccccccaaacccccccccccccccccccccccccccccccaaaccccccccccccccccciiiiiijjjaccccccccaaaccccccc']"
      ]
     },
     "execution_count": 1,
     "metadata": {},
     "output_type": "execute_result"
    }
   ],
   "source": [
    "from pathlib import Path\n",
    "\n",
    "import numpy as np\n",
    "\n",
    "INPUT_FILE = Path.cwd() / \"day-12.txt\"\n",
    "\n",
    "with INPUT_FILE.open(\"r\") as file:\n",
    "    input = [line.strip() for line in file.readlines()]\n",
    "\n",
    "input[0:8]\n"
   ]
  },
  {
   "cell_type": "code",
   "execution_count": 2,
   "metadata": {},
   "outputs": [
    {
     "name": "stdout",
     "output_type": "stream",
     "text": [
      "array([-14,   1,   0,   0,   0,   2,   2,   2,   2,   2,   2,   0,   0,\n",
      "         0,   2,   0,   0,   0,   2,   2,   2,   2,   2,   2,   2,   2,\n",
      "         0,   0,   0,   0,   0,   0,   0,   0,   0,   2,   0,   0,   0,\n",
      "         0,   0,   0,   0,   0,   0,   2,   2,   2,   2,   2,   2,   2,\n",
      "         2,   2,   2,   2,   2,   2,   2,   2,   2,   2,   2,   2,   2,\n",
      "         2,   2,   2,   2,   2,   0,   0,   0,   0,   0,   2,   2,   2,\n",
      "         2,   2,   2,   2,   2,   2,   2,   2,   0,   0,   0,   0,   0,\n",
      "         0,   0,   0,   0,   0,   0,   0,   0,   2,   0,   0,   0,   2,\n",
      "         2,   0,   0,   6,   6,   6,  12,  12,  12,  19,  19,  19,  23,\n",
      "        23,  23, -28,  25,  25,  25,  25,  24,  24,  24,  21,  21,  15,\n",
      "        15,  15,  11,  11,  11,   2,   2,   2,   2,   2,   2,   2,   2,\n",
      "         2], dtype=int32)\n",
      "Start = (0,20), finish = (119,20)\n"
     ]
    }
   ],
   "source": [
    "from pprint import pprint\n",
    "\n",
    "topo = np.array([list(map(ord, line)) for line in input], dtype=np.int32)\n",
    "topo -= ord(\"a\")\n",
    "pprint(topo[20,:])\n",
    "start_row = (topo == (ord(\"S\") - ord(\"a\"))).nonzero()[0][0]\n",
    "start_col = (topo == (ord(\"S\") - ord(\"a\"))).nonzero()[1][0]\n",
    "finish_row = (topo == (ord(\"E\") - ord(\"a\"))).nonzero()[0][0]\n",
    "finish_col = (topo == (ord(\"E\") - ord(\"a\"))).nonzero()[1][0]\n",
    "print(f\"Start = ({start_col},{start_row}), finish = ({finish_col},{finish_row})\")\n",
    "\n",
    "topo[start_row, start_col] = 0\n",
    "topo[finish_row, finish_col] = 25\n"
   ]
  },
  {
   "cell_type": "code",
   "execution_count": 3,
   "metadata": {},
   "outputs": [],
   "source": [
    "class Point:\n",
    "    def __init__(self, x:int, y:int) -> None:\n",
    "        self.x = x\n",
    "        self.y = y\n",
    "        return\n",
    "\n",
    "    def __eq__(self, other):\n",
    "        return (self.x == other.x) and (self.y == other.y)\n",
    "\n",
    "    def __ne__(self, other):\n",
    "        return not self.__eq__(other)\n",
    "\n",
    "    def __add__(self, other):\n",
    "        return Point(self.x+other.x, self.y+other.y)\n",
    "\n",
    "    def __sub__(self, other):\n",
    "        return Point(self.x-other.x, self.y-other.y)\n",
    "\n",
    "    def __neg__(self):\n",
    "        return Point(-self.x, -self.y)\n",
    "\n",
    "    def __str__(self) -> str:\n",
    "        return f\"Point(x={self.x},y={self.y})\"\n",
    "\n",
    "NORTH = Point(0, -1)\n",
    "SOUTH = Point(0, 1)\n",
    "EAST = Point(1, 0)\n",
    "WEST = Point(-1, 0)\n"
   ]
  },
  {
   "cell_type": "markdown",
   "metadata": {},
   "source": [
    "# Part 1\n",
    "\n",
    "Shortest path from start to peak."
   ]
  },
  {
   "cell_type": "code",
   "execution_count": 4,
   "metadata": {},
   "outputs": [
    {
     "name": "stdout",
     "output_type": "stream",
     "text": [
      "Part 1: reached target in 423 moves\n"
     ]
    }
   ],
   "source": [
    "counts = np.zeros_like(topo)\n",
    "target = Point(finish_col, finish_row)\n",
    "paths = [Point(start_col, start_row)]\n",
    "counts[start_row,start_col] = 1\n",
    "\n",
    "while True:\n",
    "    position = paths.pop(0)\n",
    "    count = counts[position.y, position.x]\n",
    "    elevation = topo[position.y, position.x]\n",
    "    for test in [NORTH, SOUTH, EAST, WEST]:\n",
    "        y_prime = position.y + test.y\n",
    "        x_prime = position.x + test.x\n",
    "        if (x_prime < 0) or (y_prime < 0) or (x_prime == topo.shape[1]) or (y_prime == topo.shape[0]):\n",
    "            continue\n",
    "        if (counts[y_prime,x_prime] == 0) and ((elevation - topo[y_prime,x_prime]) >= -1):\n",
    "            counts[y_prime,x_prime] = count + 1\n",
    "            temp = Point(x_prime, y_prime)\n",
    "            if temp == target:\n",
    "                print(f\"Part 1: reached target in {count} moves\")\n",
    "                break\n",
    "            paths.append(temp)\n",
    "    if temp == target:\n",
    "        break\n"
   ]
  },
  {
   "cell_type": "markdown",
   "metadata": {},
   "source": [
    "# Part 2\n",
    "\n",
    "Shortest path from any \"a\" level (sea level) point to the peak.\n",
    "\n",
    "Brute force solution - check _all_ starting cells at sea level, report shortest."
   ]
  },
  {
   "cell_type": "code",
   "execution_count": 5,
   "metadata": {},
   "outputs": [
    {
     "name": "stdout",
     "output_type": "stream",
     "text": [
      "Part 2: shortest length is 416\n"
     ]
    }
   ],
   "source": [
    "lengths = []\n",
    "target = Point(finish_col, finish_row)\n",
    "\n",
    "for start_y in range(topo.shape[0]):\n",
    "    for start_x in range(topo.shape[1]):\n",
    "        if topo[start_y,start_x] == 0:\n",
    "            counts = np.zeros_like(topo)\n",
    "            counts[start_y,start_x] = 1\n",
    "            paths = [Point(start_x,start_y)]\n",
    "            while len(paths) > 0:\n",
    "                position = paths.pop(0)\n",
    "                count = counts[position.y, position.x]\n",
    "                elevation = topo[position.y, position.x]\n",
    "                for test in [NORTH, SOUTH, EAST, WEST]:\n",
    "                    y_prime = position.y + test.y\n",
    "                    x_prime = position.x + test.x\n",
    "                    if (x_prime < 0) or (y_prime < 0) or (x_prime == topo.shape[1]) or (y_prime == topo.shape[0]):\n",
    "                        continue\n",
    "                    if (counts[y_prime,x_prime] == 0) and ((elevation - topo[y_prime,x_prime]) >= -1):\n",
    "                        counts[y_prime,x_prime] = count + 1\n",
    "                        temp = Point(x_prime, y_prime)\n",
    "                        if temp == target:\n",
    "                            lengths.append(count)\n",
    "                            break\n",
    "                        paths.append(temp)\n",
    "                if temp == target:\n",
    "                    break\n",
    "\n",
    "print(f\"Part 2: shortest length is {min(lengths)}\")"
   ]
  },
  {
   "cell_type": "markdown",
   "metadata": {},
   "source": [
    "# Part 2\n",
    "\n",
    "Shortest path from any \"a\" level (sea level) cell to the peak.\n",
    "\n",
    "Start at peak, report first \"a\" level cell encountered."
   ]
  },
  {
   "cell_type": "code",
   "execution_count": 16,
   "metadata": {},
   "outputs": [
    {
     "name": "stdout",
     "output_type": "stream",
     "text": [
      "Part 2: reached target in 416 moves\n"
     ]
    }
   ],
   "source": [
    "counts = np.zeros_like(topo)\n",
    "counts[finish_row,finish_col] = 1\n",
    "paths = [Point(finish_col, finish_row)]\n",
    "\n",
    "found = False\n",
    "while len(paths) > 0:\n",
    "    position = paths.pop(0)\n",
    "    count = counts[position.y, position.x]\n",
    "    elevation = topo[position.y, position.x]\n",
    "    for test in [NORTH, SOUTH, EAST, WEST]:\n",
    "        y_prime = position.y + test.y\n",
    "        x_prime = position.x + test.x\n",
    "        if (x_prime < 0) or (y_prime < 0) or (x_prime == topo.shape[1]) or (y_prime == topo.shape[0]):\n",
    "            continue\n",
    "        if (counts[y_prime,x_prime] == 0) and ((topo[y_prime,x_prime] - elevation) >= -1):\n",
    "            if topo[y_prime,x_prime] == 0:\n",
    "                print(f\"Part 2: reached target in {count} moves\")\n",
    "                found = True\n",
    "                break\n",
    "            else:\n",
    "                counts[y_prime,x_prime] = count + 1\n",
    "                temp = Point(x_prime, y_prime)\n",
    "                paths.append(temp)\n",
    "    if found:\n",
    "        break\n"
   ]
  }
 ],
 "metadata": {
  "kernelspec": {
   "display_name": "Python 3.8.9 ('.venv': venv)",
   "language": "python",
   "name": "python3"
  },
  "language_info": {
   "codemirror_mode": {
    "name": "ipython",
    "version": 3
   },
   "file_extension": ".py",
   "mimetype": "text/x-python",
   "name": "python",
   "nbconvert_exporter": "python",
   "pygments_lexer": "ipython3",
   "version": "3.8.9"
  },
  "orig_nbformat": 4,
  "vscode": {
   "interpreter": {
    "hash": "4ef0dafbb4c785a213c30d260c9cfa9153acec0d3c352807f65148e1731ab18b"
   }
  }
 },
 "nbformat": 4,
 "nbformat_minor": 2
}
